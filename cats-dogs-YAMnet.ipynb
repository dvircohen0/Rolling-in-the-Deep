{
  "nbformat": 4,
  "nbformat_minor": 0,
  "metadata": {
    "colab": {
      "name": "Untitled12.ipynb",
      "provenance": [],
      "authorship_tag": "ABX9TyMrn9B1KxhTC2Sc8jah6yii",
      "include_colab_link": true
    },
    "kernelspec": {
      "name": "python3",
      "display_name": "Python 3"
    },
    "language_info": {
      "name": "python"
    },
    "accelerator": "GPU",
    "widgets": {
      "application/vnd.jupyter.widget-state+json": {
        "3cf1a80468034c84a4619c01b859edbf": {
          "model_module": "@jupyter-widgets/controls",
          "model_name": "HBoxModel",
          "state": {
            "_view_name": "HBoxView",
            "_dom_classes": [],
            "_model_name": "HBoxModel",
            "_view_module": "@jupyter-widgets/controls",
            "_model_module_version": "1.5.0",
            "_view_count": null,
            "_view_module_version": "1.5.0",
            "box_style": "",
            "layout": "IPY_MODEL_3147d95f7a2640bbb4da58b45fcca83d",
            "_model_module": "@jupyter-widgets/controls",
            "children": [
              "IPY_MODEL_aad4166c713a41dd9e876c12b081857e",
              "IPY_MODEL_accbc4897b804674a7329ad1d84d777d"
            ]
          }
        },
        "3147d95f7a2640bbb4da58b45fcca83d": {
          "model_module": "@jupyter-widgets/base",
          "model_name": "LayoutModel",
          "state": {
            "_view_name": "LayoutView",
            "grid_template_rows": null,
            "right": null,
            "justify_content": null,
            "_view_module": "@jupyter-widgets/base",
            "overflow": null,
            "_model_module_version": "1.2.0",
            "_view_count": null,
            "flex_flow": null,
            "width": null,
            "min_width": null,
            "border": null,
            "align_items": null,
            "bottom": null,
            "_model_module": "@jupyter-widgets/base",
            "top": null,
            "grid_column": null,
            "overflow_y": null,
            "overflow_x": null,
            "grid_auto_flow": null,
            "grid_area": null,
            "grid_template_columns": null,
            "flex": null,
            "_model_name": "LayoutModel",
            "justify_items": null,
            "grid_row": null,
            "max_height": null,
            "align_content": null,
            "visibility": null,
            "align_self": null,
            "height": null,
            "min_height": null,
            "padding": null,
            "grid_auto_rows": null,
            "grid_gap": null,
            "max_width": null,
            "order": null,
            "_view_module_version": "1.2.0",
            "grid_template_areas": null,
            "object_position": null,
            "object_fit": null,
            "grid_auto_columns": null,
            "margin": null,
            "display": null,
            "left": null
          }
        },
        "aad4166c713a41dd9e876c12b081857e": {
          "model_module": "@jupyter-widgets/controls",
          "model_name": "FloatProgressModel",
          "state": {
            "_view_name": "ProgressView",
            "style": "IPY_MODEL_0d4bf8a14e9a448b96ad1300e28c9121",
            "_dom_classes": [],
            "description": "removing silence...: 100%",
            "_model_name": "FloatProgressModel",
            "bar_style": "success",
            "max": 277,
            "_view_module": "@jupyter-widgets/controls",
            "_model_module_version": "1.5.0",
            "value": 277,
            "_view_count": null,
            "_view_module_version": "1.5.0",
            "orientation": "horizontal",
            "min": 0,
            "description_tooltip": null,
            "_model_module": "@jupyter-widgets/controls",
            "layout": "IPY_MODEL_6fd9c0a817ce45dea2c81e84d2cfc20f"
          }
        },
        "accbc4897b804674a7329ad1d84d777d": {
          "model_module": "@jupyter-widgets/controls",
          "model_name": "HTMLModel",
          "state": {
            "_view_name": "HTMLView",
            "style": "IPY_MODEL_bbace1c588de4ce289c2afa9924af7e4",
            "_dom_classes": [],
            "description": "",
            "_model_name": "HTMLModel",
            "placeholder": "​",
            "_view_module": "@jupyter-widgets/controls",
            "_model_module_version": "1.5.0",
            "value": " 277/277 [02:16&lt;00:00,  2.02it/s]",
            "_view_count": null,
            "_view_module_version": "1.5.0",
            "description_tooltip": null,
            "_model_module": "@jupyter-widgets/controls",
            "layout": "IPY_MODEL_ad7e495f94d34388b021d61b8cdd8b71"
          }
        },
        "0d4bf8a14e9a448b96ad1300e28c9121": {
          "model_module": "@jupyter-widgets/controls",
          "model_name": "ProgressStyleModel",
          "state": {
            "_view_name": "StyleView",
            "_model_name": "ProgressStyleModel",
            "description_width": "initial",
            "_view_module": "@jupyter-widgets/base",
            "_model_module_version": "1.5.0",
            "_view_count": null,
            "_view_module_version": "1.2.0",
            "bar_color": null,
            "_model_module": "@jupyter-widgets/controls"
          }
        },
        "6fd9c0a817ce45dea2c81e84d2cfc20f": {
          "model_module": "@jupyter-widgets/base",
          "model_name": "LayoutModel",
          "state": {
            "_view_name": "LayoutView",
            "grid_template_rows": null,
            "right": null,
            "justify_content": null,
            "_view_module": "@jupyter-widgets/base",
            "overflow": null,
            "_model_module_version": "1.2.0",
            "_view_count": null,
            "flex_flow": null,
            "width": null,
            "min_width": null,
            "border": null,
            "align_items": null,
            "bottom": null,
            "_model_module": "@jupyter-widgets/base",
            "top": null,
            "grid_column": null,
            "overflow_y": null,
            "overflow_x": null,
            "grid_auto_flow": null,
            "grid_area": null,
            "grid_template_columns": null,
            "flex": null,
            "_model_name": "LayoutModel",
            "justify_items": null,
            "grid_row": null,
            "max_height": null,
            "align_content": null,
            "visibility": null,
            "align_self": null,
            "height": null,
            "min_height": null,
            "padding": null,
            "grid_auto_rows": null,
            "grid_gap": null,
            "max_width": null,
            "order": null,
            "_view_module_version": "1.2.0",
            "grid_template_areas": null,
            "object_position": null,
            "object_fit": null,
            "grid_auto_columns": null,
            "margin": null,
            "display": null,
            "left": null
          }
        },
        "bbace1c588de4ce289c2afa9924af7e4": {
          "model_module": "@jupyter-widgets/controls",
          "model_name": "DescriptionStyleModel",
          "state": {
            "_view_name": "StyleView",
            "_model_name": "DescriptionStyleModel",
            "description_width": "",
            "_view_module": "@jupyter-widgets/base",
            "_model_module_version": "1.5.0",
            "_view_count": null,
            "_view_module_version": "1.2.0",
            "_model_module": "@jupyter-widgets/controls"
          }
        },
        "ad7e495f94d34388b021d61b8cdd8b71": {
          "model_module": "@jupyter-widgets/base",
          "model_name": "LayoutModel",
          "state": {
            "_view_name": "LayoutView",
            "grid_template_rows": null,
            "right": null,
            "justify_content": null,
            "_view_module": "@jupyter-widgets/base",
            "overflow": null,
            "_model_module_version": "1.2.0",
            "_view_count": null,
            "flex_flow": null,
            "width": null,
            "min_width": null,
            "border": null,
            "align_items": null,
            "bottom": null,
            "_model_module": "@jupyter-widgets/base",
            "top": null,
            "grid_column": null,
            "overflow_y": null,
            "overflow_x": null,
            "grid_auto_flow": null,
            "grid_area": null,
            "grid_template_columns": null,
            "flex": null,
            "_model_name": "LayoutModel",
            "justify_items": null,
            "grid_row": null,
            "max_height": null,
            "align_content": null,
            "visibility": null,
            "align_self": null,
            "height": null,
            "min_height": null,
            "padding": null,
            "grid_auto_rows": null,
            "grid_gap": null,
            "max_width": null,
            "order": null,
            "_view_module_version": "1.2.0",
            "grid_template_areas": null,
            "object_position": null,
            "object_fit": null,
            "grid_auto_columns": null,
            "margin": null,
            "display": null,
            "left": null
          }
        }
      }
    }
  },
  "cells": [
    {
      "cell_type": "markdown",
      "metadata": {
        "id": "view-in-github",
        "colab_type": "text"
      },
      "source": [
        "<a href=\"https://colab.research.google.com/github/dvircohen0/projects/blob/main/cats-dogs-YAMnet.ipynb\" target=\"_parent\"><img src=\"https://colab.research.google.com/assets/colab-badge.svg\" alt=\"Open In Colab\"/></a>"
      ]
    },
    {
      "cell_type": "code",
      "metadata": {
        "id": "diia2r_9LVbE"
      },
      "source": [
        "!pip install -q tensorflow_io\n",
        "!pip install unsilence"
      ],
      "execution_count": null,
      "outputs": []
    },
    {
      "cell_type": "code",
      "metadata": {
        "id": "T6ieb7fgK30M"
      },
      "source": [
        "import os\n",
        "from IPython import display\n",
        "import matplotlib.pyplot as plt\n",
        "import numpy as np\n",
        "import pandas as pd\n",
        "import tensorflow as tf\n",
        "import tensorflow_datasets as tfds\n",
        "import tensorflow_hub as hub\n",
        "import tensorflow_io as tfio\n",
        "import seaborn as sns\n",
        "from sklearn.utils import shuffle\n",
        "from tqdm.notebook import tqdm\n",
        "from sklearn.model_selection import train_test_split\n",
        "from google.colab import files "
      ],
      "execution_count": 3,
      "outputs": []
    },
    {
      "cell_type": "code",
      "metadata": {
        "id": "_bAmCMnSLMfo"
      },
      "source": [
        "files.upload()\n",
        "!mkdir -p ~/.kaggle\n",
        "!cp kaggle.json ~/.kaggle/\n",
        "!chmod 600 ~/.kaggle/kaggle.json\n",
        "!kaggle datasets download -d mmoreaux/audio-cats-and-dogs\n",
        "!unzip \"/content/audio-cats-and-dogs.zip\""
      ],
      "execution_count": null,
      "outputs": []
    },
    {
      "cell_type": "markdown",
      "metadata": {
        "id": "WRJ136fxQX8H"
      },
      "source": [
        "**Loading YAMNet from TensorFlow Hub**\n",
        "\n",
        "Using YAMNet from Tensorflow Hub to extract the embeddings from the sound files."
      ]
    },
    {
      "cell_type": "code",
      "metadata": {
        "id": "D2M6cAL7LqXu"
      },
      "source": [
        "yamnet_model_handle = 'https://tfhub.dev/google/yamnet/1'\n",
        "yamnet_model = hub.load(yamnet_model_handle)"
      ],
      "execution_count": 6,
      "outputs": []
    },
    {
      "cell_type": "markdown",
      "metadata": {
        "id": "CuQXL82zQvNZ"
      },
      "source": [
        "Util functions for loading audio files and ensure the correct sample rate"
      ]
    },
    {
      "cell_type": "code",
      "metadata": {
        "id": "Xyv0W5yaMGQi"
      },
      "source": [
        "@tf.function\n",
        "def load_wav_16k_mono(filename):\n",
        "    \"\"\" read in a waveform file and convert to 16 kHz mono \"\"\"\n",
        "    file_contents = tf.io.read_file(filename)\n",
        "    wav, sample_rate = tf.audio.decode_wav(\n",
        "          file_contents,\n",
        "          desired_channels=1)\n",
        "    wav = tf.squeeze(wav, axis=-1)\n",
        "    sample_rate = tf.cast(sample_rate, dtype=tf.int64)\n",
        "    wav = tfio.audio.resample(wav, rate_in=sample_rate, rate_out=16000)\n",
        "    return wav"
      ],
      "execution_count": 7,
      "outputs": []
    },
    {
      "cell_type": "markdown",
      "metadata": {
        "id": "4PmMEF89Q0Is"
      },
      "source": [
        "Loading the class names that YAMNet is able to recognize. The mapping file is present at yamnet_model.class_map_path(), in the csv format."
      ]
    },
    {
      "cell_type": "code",
      "metadata": {
        "colab": {
          "base_uri": "https://localhost:8080/"
        },
        "id": "PIczh-T_MItK",
        "outputId": "0947b419-8f26-4d7f-982e-4a9cb09fa7dc"
      },
      "source": [
        "class_map_path = yamnet_model.class_map_path().numpy().decode('utf-8')\n",
        "class_names =list(pd.read_csv(class_map_path)['display_name'])\n",
        "\n",
        "for name in class_names[:20]:\n",
        "  print(name)\n",
        "print('...')"
      ],
      "execution_count": 8,
      "outputs": [
        {
          "output_type": "stream",
          "text": [
            "Speech\n",
            "Child speech, kid speaking\n",
            "Conversation\n",
            "Narration, monologue\n",
            "Babbling\n",
            "Speech synthesizer\n",
            "Shout\n",
            "Bellow\n",
            "Whoop\n",
            "Yell\n",
            "Children shouting\n",
            "Screaming\n",
            "Whispering\n",
            "Laughter\n",
            "Baby laughter\n",
            "Giggle\n",
            "Snicker\n",
            "Belly laugh\n",
            "Chuckle, chortle\n",
            "Crying, sobbing\n",
            "...\n"
          ],
          "name": "stdout"
        }
      ]
    },
    {
      "cell_type": "markdown",
      "metadata": {
        "id": "tdXwJ98xQ4Jf"
      },
      "source": [
        " **Explore the data**\n",
        " \n",
        "The dataset consists in many \"wav\" files for both the cat and dog classes : cat has 164 WAV files to which corresponds 1323 sec of audio dog has 113 WAV files to which corresponds 598 sec of audio All the WAV files contains 16KHz audio and have variable length."
      ]
    },
    {
      "cell_type": "code",
      "metadata": {
        "id": "IRtBks98MLsV"
      },
      "source": [
        "data_csv = '/content/train_test_split.csv'\n",
        "base_data_path = '/content/cats_dogs'\n",
        "my_classes = ['cat', 'dog']\n",
        "\n",
        "train_dogs_files = '/content/cats_dogs/train/dog/' +\\\n",
        "pd.DataFrame(os.listdir(\"/content/cats_dogs/train/dog/\"),columns=[\"file_name\"])\n",
        "train_dogs_labels = pd.DataFrame(np.asarray(np.ones(len(train_dogs_files))).astype(np.int32),columns=[\"label\"])\n",
        "\n",
        "test_dogs_files = '/content/cats_dogs/test/test/' +\\\n",
        "pd.DataFrame(os.listdir(\"/content/cats_dogs/test/test/\"),columns=[\"file_name\"])\n",
        "test_dogs_labels = pd.DataFrame(np.asarray(np.ones(len(test_dogs_files))).astype(np.int32),columns=[\"label\"])\n",
        "\n",
        "train_cats_files = '/content/cats_dogs/train/cat/' +\\\n",
        "pd.DataFrame(os.listdir(\"/content/cats_dogs/train/cat/\"),columns=[\"file_name\"])\n",
        "train_cats_labels = pd.DataFrame(np.asarray(np.zeros(len(train_cats_files))).astype(np.int32),columns=[\"label\"]) \n",
        "\n",
        "test_cats_files = '/content/cats_dogs/test/cats/' +\\\n",
        "pd.DataFrame(os.listdir(\"/content/cats_dogs/test/cats/\"),columns=[\"file_name\"])\n",
        "test_cats_labels = pd.DataFrame(np.asarray(np.zeros(len(test_cats_files))).astype(np.int32),columns=[\"label\"])\n",
        "\n",
        "data=pd.concat([train_dogs_files,train_cats_files,test_dogs_files,test_cats_files],ignore_index=True).squeeze()\n",
        "labels=pd.concat([train_dogs_labels,train_cats_labels,test_dogs_labels,test_cats_labels],ignore_index=True).squeeze()\n",
        "\n",
        "complete=pd.concat([data,labels], axis=1)\n",
        "\n"
      ],
      "execution_count": 10,
      "outputs": []
    },
    {
      "cell_type": "markdown",
      "metadata": {
        "id": "hKuF2jitRDR6"
      },
      "source": [
        "Removing silence parts from the WAV files"
      ]
    },
    {
      "cell_type": "code",
      "metadata": {
        "colab": {
          "base_uri": "https://localhost:8080/",
          "height": 66,
          "referenced_widgets": [
            "3cf1a80468034c84a4619c01b859edbf",
            "3147d95f7a2640bbb4da58b45fcca83d",
            "aad4166c713a41dd9e876c12b081857e",
            "accbc4897b804674a7329ad1d84d777d",
            "0d4bf8a14e9a448b96ad1300e28c9121",
            "6fd9c0a817ce45dea2c81e84d2cfc20f",
            "bbace1c588de4ce289c2afa9924af7e4",
            "ad7e495f94d34388b021d61b8cdd8b71"
          ]
        },
        "id": "0SuY6dH3My8e",
        "outputId": "10685994-ff9c-4462-971d-e888c5b224fa"
      },
      "source": [
        "files = complete[\"file_name\"].values\n",
        "for file in tqdm(files, desc=\"removing silence...\"):\n",
        "    os.system(\"unsilence [{}] [{}]\".format(file,file))"
      ],
      "execution_count": 11,
      "outputs": [
        {
          "output_type": "display_data",
          "data": {
            "application/vnd.jupyter.widget-view+json": {
              "model_id": "3cf1a80468034c84a4619c01b859edbf",
              "version_minor": 0,
              "version_major": 2
            },
            "text/plain": [
              "HBox(children=(FloatProgress(value=0.0, description='removing silence...', max=277.0, style=ProgressStyle(desc…"
            ]
          },
          "metadata": {
            "tags": []
          }
        },
        {
          "output_type": "stream",
          "text": [
            "\n"
          ],
          "name": "stdout"
        }
      ]
    },
    {
      "cell_type": "markdown",
      "metadata": {
        "id": "v81zRCu3RMCw"
      },
      "source": [
        "Split the data proportionally into train tset validation"
      ]
    },
    {
      "cell_type": "code",
      "metadata": {
        "colab": {
          "base_uri": "https://localhost:8080/",
          "height": 221
        },
        "id": "7ZxY6lMHNMUU",
        "outputId": "90fa7356-6487-47bd-e159-8fd9f064ef49"
      },
      "source": [
        "X=complete[\"file_name\"].values\n",
        "y=complete[\"label\"].values\n",
        "\n",
        "trainX, testX, trainy, testy = train_test_split(X, y, test_size=0.15, random_state=2, stratify=y)\n",
        "trainX, valX, trainy, valy = train_test_split(trainX, trainy, test_size=0.21, random_state=2, stratify=trainy)\n",
        "    \n",
        "train_0, train_1 = len(trainy[trainy==0]), len(trainy[trainy==1])\n",
        "test_0, test_1 = len(testy[testy==0]), len(testy[testy==1])\n",
        "val_0, val_1 = len(valy[valy==0]), len(valy[valy==1])\n",
        "print('>Train: 0=%d, 1=%d, Test: 0=%d, 1=%d, Val: 0=%d, 1=%d' % (train_0, train_1, test_0, test_1, val_0, val_1))\n",
        "\n",
        "folds=[]\n",
        "for file in X:\n",
        "    if file in testX:\n",
        "        folds.append(\"testX\")\n",
        "    elif file in valX:\n",
        "        folds.append(\"valX\")\n",
        "    else: folds.append(\"trainX\")\n",
        "        \n",
        "        \n",
        "fold_names = pd.DataFrame(folds,columns=[\"fold\"]).squeeze()\n",
        "complete=pd.concat([complete,fold_names], axis=1)\n",
        "complete = shuffle(complete)\n",
        "complete.head()\n",
        "  "
      ],
      "execution_count": 12,
      "outputs": [
        {
          "output_type": "stream",
          "text": [
            ">Train: 0=109, 1=76, Test: 0=25, 1=17, Val: 0=30, 1=20\n"
          ],
          "name": "stdout"
        },
        {
          "output_type": "execute_result",
          "data": {
            "text/html": [
              "<div>\n",
              "<style scoped>\n",
              "    .dataframe tbody tr th:only-of-type {\n",
              "        vertical-align: middle;\n",
              "    }\n",
              "\n",
              "    .dataframe tbody tr th {\n",
              "        vertical-align: top;\n",
              "    }\n",
              "\n",
              "    .dataframe thead th {\n",
              "        text-align: right;\n",
              "    }\n",
              "</style>\n",
              "<table border=\"1\" class=\"dataframe\">\n",
              "  <thead>\n",
              "    <tr style=\"text-align: right;\">\n",
              "      <th></th>\n",
              "      <th>file_name</th>\n",
              "      <th>label</th>\n",
              "      <th>fold</th>\n",
              "    </tr>\n",
              "  </thead>\n",
              "  <tbody>\n",
              "    <tr>\n",
              "      <th>84</th>\n",
              "      <td>/content/cats_dogs/train/dog/dog_barking_95.wav</td>\n",
              "      <td>1</td>\n",
              "      <td>trainX</td>\n",
              "    </tr>\n",
              "    <tr>\n",
              "      <th>220</th>\n",
              "      <td>/content/cats_dogs/test/test/dog_barking_66.wav</td>\n",
              "      <td>1</td>\n",
              "      <td>trainX</td>\n",
              "    </tr>\n",
              "    <tr>\n",
              "      <th>241</th>\n",
              "      <td>/content/cats_dogs/test/cats/cat_90.wav</td>\n",
              "      <td>0</td>\n",
              "      <td>trainX</td>\n",
              "    </tr>\n",
              "    <tr>\n",
              "      <th>70</th>\n",
              "      <td>/content/cats_dogs/train/dog/dog_barking_85.wav</td>\n",
              "      <td>1</td>\n",
              "      <td>valX</td>\n",
              "    </tr>\n",
              "    <tr>\n",
              "      <th>216</th>\n",
              "      <td>/content/cats_dogs/test/test/dog_barking_15.wav</td>\n",
              "      <td>1</td>\n",
              "      <td>trainX</td>\n",
              "    </tr>\n",
              "  </tbody>\n",
              "</table>\n",
              "</div>"
            ],
            "text/plain": [
              "                                           file_name  label    fold\n",
              "84   /content/cats_dogs/train/dog/dog_barking_95.wav      1  trainX\n",
              "220  /content/cats_dogs/test/test/dog_barking_66.wav      1  trainX\n",
              "241          /content/cats_dogs/test/cats/cat_90.wav      0  trainX\n",
              "70   /content/cats_dogs/train/dog/dog_barking_85.wav      1    valX\n",
              "216  /content/cats_dogs/test/test/dog_barking_15.wav      1  trainX"
            ]
          },
          "metadata": {
            "tags": []
          },
          "execution_count": 12
        }
      ]
    },
    {
      "cell_type": "markdown",
      "metadata": {
        "id": "CDiPBZpQRUtl"
      },
      "source": [
        "**Load the audio files and retrieve embeddings**\n",
        "\n",
        "apply the load_wav_16k_mono and prepare the wav data for the model.\n",
        "\n",
        "When extracting embeddings from the wav data, you get an array of shape (N, 1024) where N is the number of frames that YAMNet found (one for every 0.48 seconds of audio).\n",
        "\n",
        "The model will use each frame as one input so its needed to to create a new column that has one frame per row, and also need to expand the labels and fold column to proper reflect these new rows."
      ]
    },
    {
      "cell_type": "code",
      "metadata": {
        "colab": {
          "base_uri": "https://localhost:8080/"
        },
        "id": "O1N2hOp4NQPm",
        "outputId": "9987b4ba-91cf-4ad6-d3f7-1d2d6938c0d3"
      },
      "source": [
        "main_ds = tf.data.Dataset.from_tensor_slices((data, labels,folds))\n",
        "main_ds.element_spec"
      ],
      "execution_count": 13,
      "outputs": [
        {
          "output_type": "execute_result",
          "data": {
            "text/plain": [
              "(TensorSpec(shape=(), dtype=tf.string, name=None),\n",
              " TensorSpec(shape=(), dtype=tf.int32, name=None),\n",
              " TensorSpec(shape=(), dtype=tf.string, name=None))"
            ]
          },
          "metadata": {
            "tags": []
          },
          "execution_count": 13
        }
      ]
    },
    {
      "cell_type": "code",
      "metadata": {
        "id": "4HVaxDU_NSmv"
      },
      "source": [
        "def load_wav_for_map(filename, label, fold):\n",
        "  return load_wav_16k_mono(filename), label, fold"
      ],
      "execution_count": 14,
      "outputs": []
    },
    {
      "cell_type": "code",
      "metadata": {
        "colab": {
          "base_uri": "https://localhost:8080/"
        },
        "id": "lbbWEqiTNUjC",
        "outputId": "209e1679-0db6-44a1-fbbe-ba3d283c0e89"
      },
      "source": [
        "main_ds = main_ds.map(load_wav_for_map)\n",
        "main_ds.element_spec"
      ],
      "execution_count": 15,
      "outputs": [
        {
          "output_type": "execute_result",
          "data": {
            "text/plain": [
              "(TensorSpec(shape=<unknown>, dtype=tf.float32, name=None),\n",
              " TensorSpec(shape=(), dtype=tf.int32, name=None),\n",
              " TensorSpec(shape=(), dtype=tf.string, name=None))"
            ]
          },
          "metadata": {
            "tags": []
          },
          "execution_count": 15
        }
      ]
    },
    {
      "cell_type": "code",
      "metadata": {
        "colab": {
          "base_uri": "https://localhost:8080/"
        },
        "id": "eiKmmn3jNW54",
        "outputId": "c149ce43-eed4-4d8e-dd94-4b5b11042fb5"
      },
      "source": [
        "# applies the embedding extraction model to a wav data\n",
        "def extract_embedding(wav_data, label, fold):\n",
        "  ''' run YAMNet to extract embedding from the wav data '''\n",
        "  scores, embeddings, spectrogram = yamnet_model(wav_data)\n",
        "  num_embeddings = tf.shape(embeddings)[0]\n",
        "  return (embeddings,\n",
        "            tf.repeat(label, num_embeddings),\n",
        "            tf.repeat(fold, num_embeddings))\n",
        "\n",
        "# extract embedding\n",
        "main_ds = main_ds.map(extract_embedding).unbatch()\n",
        "main_ds.element_spec"
      ],
      "execution_count": 16,
      "outputs": [
        {
          "output_type": "execute_result",
          "data": {
            "text/plain": [
              "(TensorSpec(shape=(1024,), dtype=tf.float32, name=None),\n",
              " TensorSpec(shape=(), dtype=tf.int32, name=None),\n",
              " TensorSpec(shape=(), dtype=tf.string, name=None))"
            ]
          },
          "metadata": {
            "tags": []
          },
          "execution_count": 16
        }
      ]
    },
    {
      "cell_type": "markdown",
      "metadata": {
        "id": "64kbmWe1Rg6i"
      },
      "source": [
        "**Split the data**\n",
        "\n",
        "using the fold column to split the dataset into train, validation and test.\n",
        "\n",
        "The fold values are so that files from the same original wav file are keep on the same split.\n",
        "\n",
        "The last step is to remove the fold column from the dataset since we're not going to use it anymore on the training process."
      ]
    },
    {
      "cell_type": "code",
      "metadata": {
        "id": "gmRcZHM6NZ2y"
      },
      "source": [
        "cached_ds = main_ds.cache()\n",
        "train_ds = cached_ds.filter(lambda embedding, label, fold: fold == \"trainX\")\n",
        "val_ds = cached_ds.filter(lambda embedding, label, fold: fold == \"valX\")\n",
        "test_ds = cached_ds.filter(lambda embedding, label, fold: fold == \"testX\")\n",
        "\n",
        "# remove the folds column now that it's not needed anymore\n",
        "remove_fold_column = lambda embedding, label, fold: (embedding, label)\n",
        "\n",
        "train_ds = train_ds.map(remove_fold_column)\n",
        "val_ds = val_ds.map(remove_fold_column)\n",
        "test_ds = test_ds.map(remove_fold_column)\n",
        "\n",
        "train_ds = train_ds.cache().shuffle(1000).batch(32).prefetch(tf.data.AUTOTUNE)\n",
        "val_ds = val_ds.cache().batch(32).prefetch(tf.data.AUTOTUNE)\n",
        "test_ds = test_ds.cache().batch(32).prefetch(tf.data.AUTOTUNE)"
      ],
      "execution_count": 17,
      "outputs": []
    },
    {
      "cell_type": "markdown",
      "metadata": {
        "id": "KGjaBKsDRltX"
      },
      "source": [
        "**Create the model**\n",
        "\n",
        "Define a Sequential Model to start with -- one hiden layer and 2 outputs to recognize cats and dogs."
      ]
    },
    {
      "cell_type": "code",
      "metadata": {
        "colab": {
          "base_uri": "https://localhost:8080/"
        },
        "id": "D2S9nkkmNbmO",
        "outputId": "9823ba44-d2dd-4856-e22c-ce242bd7996d"
      },
      "source": [
        "my_model = tf.keras.Sequential([\n",
        "    tf.keras.layers.Input(shape=(1024), dtype=tf.float32,\n",
        "                          name='input_embedding'),\n",
        "    tf.keras.layers.Dense(512, activation='relu'),\n",
        "    tf.keras.layers.Dense(len(my_classes))\n",
        "], name='my_model')\n",
        "\n",
        "my_model.summary()"
      ],
      "execution_count": 18,
      "outputs": [
        {
          "output_type": "stream",
          "text": [
            "Model: \"my_model\"\n",
            "_________________________________________________________________\n",
            "Layer (type)                 Output Shape              Param #   \n",
            "=================================================================\n",
            "dense (Dense)                (None, 512)               524800    \n",
            "_________________________________________________________________\n",
            "dense_1 (Dense)              (None, 2)                 1026      \n",
            "=================================================================\n",
            "Total params: 525,826\n",
            "Trainable params: 525,826\n",
            "Non-trainable params: 0\n",
            "_________________________________________________________________\n"
          ],
          "name": "stdout"
        }
      ]
    },
    {
      "cell_type": "code",
      "metadata": {
        "id": "hJyx0ET8Nfjw"
      },
      "source": [
        "my_model.compile(loss=tf.keras.losses.SparseCategoricalCrossentropy(from_logits=True),\n",
        "                 optimizer=\"adam\",\n",
        "                 metrics=['accuracy'])\n",
        "\n",
        "callback = tf.keras.callbacks.EarlyStopping(monitor='loss',\n",
        "                                            patience=12,\n",
        "                                            restore_best_weights=True)"
      ],
      "execution_count": 19,
      "outputs": []
    },
    {
      "cell_type": "code",
      "metadata": {
        "colab": {
          "base_uri": "https://localhost:8080/"
        },
        "id": "ttEW6WQNNh1V",
        "outputId": "4b4841af-f285-4b4c-fbd4-b09f1883c187"
      },
      "source": [
        "history = my_model.fit(train_ds,\n",
        "                       epochs=100,\n",
        "                       validation_data=val_ds,\n",
        "                       callbacks=callback)"
      ],
      "execution_count": 20,
      "outputs": [
        {
          "output_type": "stream",
          "text": [
            "Epoch 1/100\n",
            "80/80 [==============================] - 29s 200ms/step - loss: 0.2973 - accuracy: 0.8564 - val_loss: 0.2329 - val_accuracy: 0.9097\n",
            "Epoch 2/100\n",
            "80/80 [==============================] - 0s 5ms/step - loss: 0.2399 - accuracy: 0.9496 - val_loss: 0.2227 - val_accuracy: 0.9112\n",
            "Epoch 3/100\n",
            "80/80 [==============================] - 0s 6ms/step - loss: 0.1135 - accuracy: 0.9764 - val_loss: 0.2766 - val_accuracy: 0.9054\n",
            "Epoch 4/100\n",
            "80/80 [==============================] - 0s 6ms/step - loss: 0.1284 - accuracy: 0.9755 - val_loss: 0.3789 - val_accuracy: 0.8754\n",
            "Epoch 5/100\n",
            "80/80 [==============================] - 0s 6ms/step - loss: 0.0705 - accuracy: 0.9838 - val_loss: 0.5692 - val_accuracy: 0.8897\n",
            "Epoch 6/100\n",
            "80/80 [==============================] - 0s 5ms/step - loss: 0.0835 - accuracy: 0.9837 - val_loss: 0.3406 - val_accuracy: 0.8997\n",
            "Epoch 7/100\n",
            "80/80 [==============================] - 0s 6ms/step - loss: 0.0441 - accuracy: 0.9884 - val_loss: 0.3617 - val_accuracy: 0.9026\n",
            "Epoch 8/100\n",
            "80/80 [==============================] - 0s 6ms/step - loss: 0.0216 - accuracy: 0.9943 - val_loss: 0.4693 - val_accuracy: 0.8911\n",
            "Epoch 9/100\n",
            "80/80 [==============================] - 0s 6ms/step - loss: 0.0365 - accuracy: 0.9956 - val_loss: 0.6213 - val_accuracy: 0.8911\n",
            "Epoch 10/100\n",
            "80/80 [==============================] - 0s 6ms/step - loss: 0.0734 - accuracy: 0.9965 - val_loss: 0.3842 - val_accuracy: 0.9040\n",
            "Epoch 11/100\n",
            "80/80 [==============================] - 0s 6ms/step - loss: 0.0089 - accuracy: 0.9984 - val_loss: 0.4610 - val_accuracy: 0.9054\n",
            "Epoch 12/100\n",
            "80/80 [==============================] - 1s 6ms/step - loss: 0.0527 - accuracy: 0.9963 - val_loss: 0.5430 - val_accuracy: 0.8983\n",
            "Epoch 13/100\n",
            "80/80 [==============================] - 0s 6ms/step - loss: 0.0360 - accuracy: 0.9985 - val_loss: 0.5077 - val_accuracy: 0.8997\n",
            "Epoch 14/100\n",
            "80/80 [==============================] - 0s 6ms/step - loss: 0.0067 - accuracy: 0.9995 - val_loss: 0.4728 - val_accuracy: 0.9126\n",
            "Epoch 15/100\n",
            "80/80 [==============================] - 0s 6ms/step - loss: 0.0334 - accuracy: 0.9985 - val_loss: 0.4623 - val_accuracy: 0.8997\n",
            "Epoch 16/100\n",
            "80/80 [==============================] - 0s 6ms/step - loss: 0.0021 - accuracy: 1.0000 - val_loss: 0.4773 - val_accuracy: 0.9083\n",
            "Epoch 17/100\n",
            "80/80 [==============================] - 0s 6ms/step - loss: 0.0016 - accuracy: 0.9998 - val_loss: 0.4732 - val_accuracy: 0.9054\n",
            "Epoch 18/100\n",
            "80/80 [==============================] - 0s 6ms/step - loss: 0.0178 - accuracy: 0.9981 - val_loss: 0.5155 - val_accuracy: 0.9011\n",
            "Epoch 19/100\n",
            "80/80 [==============================] - 0s 6ms/step - loss: 0.0036 - accuracy: 0.9997 - val_loss: 0.5044 - val_accuracy: 0.9097\n",
            "Epoch 20/100\n",
            "80/80 [==============================] - 0s 6ms/step - loss: 0.0071 - accuracy: 0.9994 - val_loss: 0.5841 - val_accuracy: 0.9011\n",
            "Epoch 21/100\n",
            "80/80 [==============================] - 0s 6ms/step - loss: 0.0389 - accuracy: 0.9962 - val_loss: 0.5170 - val_accuracy: 0.9083\n",
            "Epoch 22/100\n",
            "80/80 [==============================] - 0s 6ms/step - loss: 8.5667e-04 - accuracy: 1.0000 - val_loss: 0.5265 - val_accuracy: 0.9126\n",
            "Epoch 23/100\n",
            "80/80 [==============================] - 0s 6ms/step - loss: 8.3194e-04 - accuracy: 1.0000 - val_loss: 0.5155 - val_accuracy: 0.9083\n",
            "Epoch 24/100\n",
            "80/80 [==============================] - 0s 6ms/step - loss: 5.3824e-04 - accuracy: 1.0000 - val_loss: 0.5388 - val_accuracy: 0.9083\n",
            "Epoch 25/100\n",
            "80/80 [==============================] - 1s 6ms/step - loss: 6.0878e-04 - accuracy: 1.0000 - val_loss: 0.5423 - val_accuracy: 0.9083\n",
            "Epoch 26/100\n",
            "80/80 [==============================] - 0s 6ms/step - loss: 5.8021e-04 - accuracy: 1.0000 - val_loss: 0.5534 - val_accuracy: 0.9112\n",
            "Epoch 27/100\n",
            "80/80 [==============================] - 0s 6ms/step - loss: 5.2233e-04 - accuracy: 1.0000 - val_loss: 0.5529 - val_accuracy: 0.9112\n",
            "Epoch 28/100\n",
            "80/80 [==============================] - 0s 6ms/step - loss: 4.1650e-04 - accuracy: 1.0000 - val_loss: 0.5538 - val_accuracy: 0.9054\n",
            "Epoch 29/100\n",
            "80/80 [==============================] - 1s 6ms/step - loss: 3.6708e-04 - accuracy: 1.0000 - val_loss: 0.5582 - val_accuracy: 0.9054\n",
            "Epoch 30/100\n",
            "80/80 [==============================] - 1s 7ms/step - loss: 3.7247e-04 - accuracy: 1.0000 - val_loss: 0.5715 - val_accuracy: 0.9040\n",
            "Epoch 31/100\n",
            "80/80 [==============================] - 0s 6ms/step - loss: 3.2222e-04 - accuracy: 1.0000 - val_loss: 0.5699 - val_accuracy: 0.9026\n",
            "Epoch 32/100\n",
            "80/80 [==============================] - 0s 6ms/step - loss: 2.8697e-04 - accuracy: 1.0000 - val_loss: 0.5834 - val_accuracy: 0.9083\n",
            "Epoch 33/100\n",
            "80/80 [==============================] - 0s 6ms/step - loss: 2.9430e-04 - accuracy: 1.0000 - val_loss: 0.5858 - val_accuracy: 0.9054\n",
            "Epoch 34/100\n",
            "80/80 [==============================] - 0s 6ms/step - loss: 3.0156e-04 - accuracy: 1.0000 - val_loss: 0.5934 - val_accuracy: 0.9054\n",
            "Epoch 35/100\n",
            "80/80 [==============================] - 0s 6ms/step - loss: 2.6575e-04 - accuracy: 1.0000 - val_loss: 0.5968 - val_accuracy: 0.9097\n",
            "Epoch 36/100\n",
            "80/80 [==============================] - 0s 6ms/step - loss: 3.8809e-04 - accuracy: 1.0000 - val_loss: 0.5997 - val_accuracy: 0.9097\n",
            "Epoch 37/100\n",
            "80/80 [==============================] - 0s 6ms/step - loss: 0.0015 - accuracy: 0.9996 - val_loss: 0.6489 - val_accuracy: 0.9112\n",
            "Epoch 38/100\n",
            "80/80 [==============================] - 0s 6ms/step - loss: 0.0101 - accuracy: 0.9993 - val_loss: 0.6034 - val_accuracy: 0.9112\n",
            "Epoch 39/100\n",
            "80/80 [==============================] - 0s 6ms/step - loss: 2.0561e-04 - accuracy: 1.0000 - val_loss: 0.6107 - val_accuracy: 0.9040\n",
            "Epoch 40/100\n",
            "80/80 [==============================] - 0s 6ms/step - loss: 1.7083e-04 - accuracy: 1.0000 - val_loss: 0.6167 - val_accuracy: 0.9083\n",
            "Epoch 41/100\n",
            "80/80 [==============================] - 0s 6ms/step - loss: 1.6244e-04 - accuracy: 1.0000 - val_loss: 0.6219 - val_accuracy: 0.9083\n",
            "Epoch 42/100\n",
            "80/80 [==============================] - 0s 6ms/step - loss: 1.5077e-04 - accuracy: 1.0000 - val_loss: 0.6260 - val_accuracy: 0.9083\n",
            "Epoch 43/100\n",
            "80/80 [==============================] - 0s 6ms/step - loss: 1.4909e-04 - accuracy: 1.0000 - val_loss: 0.6303 - val_accuracy: 0.9054\n",
            "Epoch 44/100\n",
            "80/80 [==============================] - 0s 6ms/step - loss: 1.2249e-04 - accuracy: 1.0000 - val_loss: 0.6346 - val_accuracy: 0.9083\n",
            "Epoch 45/100\n",
            "80/80 [==============================] - 0s 6ms/step - loss: 1.1114e-04 - accuracy: 1.0000 - val_loss: 0.6394 - val_accuracy: 0.9083\n",
            "Epoch 46/100\n",
            "80/80 [==============================] - 0s 6ms/step - loss: 1.1600e-04 - accuracy: 1.0000 - val_loss: 0.6435 - val_accuracy: 0.9083\n",
            "Epoch 47/100\n",
            "80/80 [==============================] - 0s 6ms/step - loss: 1.0183e-04 - accuracy: 1.0000 - val_loss: 0.6444 - val_accuracy: 0.9083\n",
            "Epoch 48/100\n",
            "80/80 [==============================] - 0s 6ms/step - loss: 9.9398e-05 - accuracy: 1.0000 - val_loss: 0.6530 - val_accuracy: 0.9083\n",
            "Epoch 49/100\n",
            "80/80 [==============================] - 0s 6ms/step - loss: 9.7102e-05 - accuracy: 1.0000 - val_loss: 0.6560 - val_accuracy: 0.9083\n",
            "Epoch 50/100\n",
            "80/80 [==============================] - 0s 6ms/step - loss: 8.9145e-05 - accuracy: 1.0000 - val_loss: 0.6582 - val_accuracy: 0.9026\n",
            "Epoch 51/100\n",
            "80/80 [==============================] - 0s 6ms/step - loss: 8.3237e-05 - accuracy: 1.0000 - val_loss: 0.6621 - val_accuracy: 0.9097\n",
            "Epoch 52/100\n",
            "80/80 [==============================] - 0s 6ms/step - loss: 8.2177e-05 - accuracy: 1.0000 - val_loss: 0.6688 - val_accuracy: 0.9083\n",
            "Epoch 53/100\n",
            "80/80 [==============================] - 0s 6ms/step - loss: 8.7609e-05 - accuracy: 1.0000 - val_loss: 0.6726 - val_accuracy: 0.9097\n",
            "Epoch 54/100\n",
            "80/80 [==============================] - 0s 6ms/step - loss: 9.0317e-05 - accuracy: 1.0000 - val_loss: 0.6740 - val_accuracy: 0.9054\n",
            "Epoch 55/100\n",
            "80/80 [==============================] - 0s 6ms/step - loss: 0.0034 - accuracy: 0.9995 - val_loss: 0.6978 - val_accuracy: 0.9169\n",
            "Epoch 56/100\n",
            "80/80 [==============================] - 0s 6ms/step - loss: 0.0657 - accuracy: 0.9978 - val_loss: 0.6843 - val_accuracy: 0.9155\n",
            "Epoch 57/100\n",
            "80/80 [==============================] - 1s 6ms/step - loss: 0.0091 - accuracy: 0.9992 - val_loss: 0.6876 - val_accuracy: 0.9083\n",
            "Epoch 58/100\n",
            "80/80 [==============================] - 0s 6ms/step - loss: 0.0028 - accuracy: 0.9990 - val_loss: 0.6909 - val_accuracy: 0.9069\n",
            "Epoch 59/100\n",
            "80/80 [==============================] - 0s 6ms/step - loss: 0.0018 - accuracy: 0.9991 - val_loss: 0.6875 - val_accuracy: 0.9069\n",
            "Epoch 60/100\n",
            "80/80 [==============================] - 0s 6ms/step - loss: 2.1471e-04 - accuracy: 1.0000 - val_loss: 0.6907 - val_accuracy: 0.9069\n",
            "Epoch 61/100\n",
            "80/80 [==============================] - 0s 6ms/step - loss: 2.3070e-04 - accuracy: 1.0000 - val_loss: 0.6970 - val_accuracy: 0.9112\n",
            "Epoch 62/100\n",
            "80/80 [==============================] - 0s 6ms/step - loss: 2.8311e-04 - accuracy: 1.0000 - val_loss: 0.6955 - val_accuracy: 0.9097\n",
            "Epoch 63/100\n",
            "80/80 [==============================] - 0s 6ms/step - loss: 4.3280e-04 - accuracy: 1.0000 - val_loss: 0.7038 - val_accuracy: 0.9112\n",
            "Epoch 64/100\n",
            "80/80 [==============================] - 0s 6ms/step - loss: 4.1246e-04 - accuracy: 1.0000 - val_loss: 0.7024 - val_accuracy: 0.9083\n",
            "Epoch 65/100\n",
            "80/80 [==============================] - 0s 6ms/step - loss: 1.5085e-04 - accuracy: 1.0000 - val_loss: 0.7079 - val_accuracy: 0.9097\n"
          ],
          "name": "stdout"
        }
      ]
    },
    {
      "cell_type": "code",
      "metadata": {
        "colab": {
          "base_uri": "https://localhost:8080/"
        },
        "id": "vaJrgsJpN3yh",
        "outputId": "ef7d7845-0ede-44e4-cfb4-354f854417b0"
      },
      "source": [
        "loss, accuracy = my_model.evaluate(test_ds)\n",
        "print(\"Loss: \", loss)\n",
        "print(\"Accuracy: \", accuracy)"
      ],
      "execution_count": 21,
      "outputs": [
        {
          "output_type": "stream",
          "text": [
            "19/19 [==============================] - 0s 5ms/step - loss: 0.3325 - accuracy: 0.9497\n",
            "Loss:  0.33250924944877625\n",
            "Accuracy:  0.9496644139289856\n"
          ],
          "name": "stdout"
        }
      ]
    },
    {
      "cell_type": "markdown",
      "metadata": {
        "id": "6AxSmXm7RyIJ"
      },
      "source": [
        "checking the training and validation loss curves to see how the model has improved during training."
      ]
    },
    {
      "cell_type": "code",
      "metadata": {
        "colab": {
          "base_uri": "https://localhost:8080/",
          "height": 265
        },
        "id": "ZqcVdFoLN634",
        "outputId": "566335b4-6de9-4ad0-c2af-4a546692d54e"
      },
      "source": [
        "metrics = history.history\n",
        "plt.plot(history.epoch, metrics['loss'], metrics['val_loss'])\n",
        "plt.legend(['loss', 'val_loss'])\n",
        "plt.show()"
      ],
      "execution_count": 22,
      "outputs": [
        {
          "output_type": "display_data",
          "data": {
            "image/png": "[encoded data removed]",
            "text/plain": [
              "<Figure size 432x288 with 1 Axes>"
            ]
          },
          "metadata": {
            "tags": [],
            "needs_background": "light"
          }
        }
      ]
    },
    {
      "cell_type": "markdown",
      "metadata": {
        "id": "CjVpoJI3R3oM"
      },
      "source": [
        "**Save a model that can directly take a wav file as input**\n",
        "\n",
        "The model works when it gets the embeddings as input.\n",
        "In a real situation we want to give it the sound data directly.\n",
        "To do that you will combine YAMNet with the new model into one single model that can be exported for other applications.\n",
        "To make it easier to use the model's result, the final layer will be a reduce_mean operation. "
      ]
    },
    {
      "cell_type": "code",
      "metadata": {
        "colab": {
          "base_uri": "https://localhost:8080/"
        },
        "id": "3y-pyTrkN9lS",
        "outputId": "471303c4-138c-4673-faac-5a35ebf6c18f"
      },
      "source": [
        "class ReduceMeanLayer(tf.keras.layers.Layer):\n",
        "  def __init__(self, axis=0, **kwargs):\n",
        "    super(ReduceMeanLayer, self).__init__(**kwargs)\n",
        "    self.axis = axis\n",
        "\n",
        "  def call(self, input):\n",
        "    return tf.math.reduce_mean(input, axis=self.axis)\n",
        "\n",
        "\n",
        "saved_model_path = './dogs_and_cats_yamnet'\n",
        "\n",
        "input_segment = tf.keras.layers.Input(shape=(), dtype=tf.float32, name='audio')\n",
        "embedding_extraction_layer = hub.KerasLayer(yamnet_model_handle,\n",
        "                                            trainable=False, name='yamnet')\n",
        "_, embeddings_output, _ = embedding_extraction_layer(input_segment)\n",
        "serving_outputs = my_model(embeddings_output)\n",
        "serving_outputs = ReduceMeanLayer(axis=0, name='classifier')(serving_outputs)\n",
        "serving_model = tf.keras.Model(input_segment, serving_outputs)\n",
        "serving_model.save(saved_model_path, include_optimizer=False)\n",
        "\n",
        "\n",
        "#Load the saved model to verify that it works as expected.\n",
        "reloaded_model = tf.saved_model.load(saved_model_path)"
      ],
      "execution_count": 23,
      "outputs": [
        {
          "output_type": "stream",
          "text": [
            "INFO:tensorflow:Assets written to: ./dogs_and_cats_yamnet/assets\n"
          ],
          "name": "stdout"
        },
        {
          "output_type": "stream",
          "text": [
            "INFO:tensorflow:Assets written to: ./dogs_and_cats_yamnet/assets\n"
          ],
          "name": "stderr"
        }
      ]
    },
    {
      "cell_type": "markdown",
      "metadata": {
        "id": "GrmkZQehR_qZ"
      },
      "source": [
        "compare the model to YAMNet on the test dataset."
      ]
    },
    {
      "cell_type": "code",
      "metadata": {
        "colab": {
          "base_uri": "https://localhost:8080/",
          "height": 374
        },
        "id": "uqNelu-xOEdt",
        "outputId": "05888c67-9212-45bc-ae05-afbbc4540e9b"
      },
      "source": [
        "test_pd = complete.loc[complete['fold'] == \"testX\"]\n",
        "row = test_pd.sample(1)\n",
        "filename = row['file_name'].item()\n",
        "print(filename)\n",
        "waveform = load_wav_16k_mono(filename)\n",
        "print(f'Waveform values: {waveform}')\n",
        "_ = plt.plot(waveform)\n",
        "\n",
        "display.Audio(waveform, rate=16000)"
      ],
      "execution_count": 24,
      "outputs": [
        {
          "output_type": "stream",
          "text": [
            "/content/cats_dogs/test/test/dog_barking_34.wav\n",
            "Waveform values: [ 0.0000000e+00 -1.7656580e-10  3.5047668e-10 ...  1.4884948e-02\n",
            "  2.0031421e-02  1.9787556e-02]\n"
          ],
          "name": "stdout"
        },
        {
          "output_type": "execute_result",
          "data": {
            "text/html": [
              "\n",
              "                <audio controls=\"controls\" >\n",
              "                    <source src=\"data:audio/wav;base64,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\" type=\"audio/wav\" />\n",
              "                    Your browser does not support the audio element.\n",
              "                </audio>\n",
              "              "
            ],
            "text/plain": [
              "<IPython.lib.display.Audio object>"
            ]
          },
          "metadata": {
            "tags": []
          },
          "execution_count": 24
        },
        {
          "output_type": "display_data",
          "data": {
            "image/png": "[encoded data removed]",
            "text/plain": [
              "<Figure size 432x288 with 1 Axes>"
            ]
          },
          "metadata": {
            "tags": [],
            "needs_background": "light"
          }
        }
      ]
    },
    {
      "cell_type": "code",
      "metadata": {
        "colab": {
          "base_uri": "https://localhost:8080/"
        },
        "id": "XL94-t7wOG-D",
        "outputId": "c4cee3df-c188-40ce-e5f4-2837688505b8"
      },
      "source": [
        "# Run the model, check the output.\n",
        "scores, embeddings, spectrogram = yamnet_model(waveform)\n",
        "class_scores = tf.reduce_mean(scores, axis=0)\n",
        "top_class = tf.argmax(class_scores)\n",
        "infered_class = class_names[top_class]\n",
        "top_score = class_scores[top_class]\n",
        "print(f'[YAMNet] The main sound is: {infered_class} ({top_score})')\n",
        "\n",
        "reloaded_results = reloaded_model(waveform)\n",
        "your_top_class = tf.argmax(reloaded_results)\n",
        "your_infered_class = my_classes[your_top_class]\n",
        "class_probabilities = tf.nn.softmax(reloaded_results, axis=-1)\n",
        "your_top_score = class_probabilities[your_top_class]\n",
        "print(f'[Your model] The main sound is: {your_infered_class} ({your_top_score})')"
      ],
      "execution_count": 25,
      "outputs": [
        {
          "output_type": "stream",
          "text": [
            "[YAMNet] The main sound is: Animal (0.7227101922035217)\n",
            "[Your model] The main sound is: dog (1.0)\n"
          ],
          "name": "stdout"
        }
      ]
    },
    {
      "cell_type": "markdown",
      "metadata": {
        "id": "_sZ_nCXKSD63"
      },
      "source": [
        "**Evaluate test set performance**\n",
        "\n",
        "running the model on the test set and check performance."
      ]
    },
    {
      "cell_type": "code",
      "metadata": {
        "id": "PteYEM6IOUZz"
      },
      "source": [
        "test_audio = []\n",
        "test_labels = []\n",
        "\n",
        "for _, row in test_pd.iterrows():\n",
        "    test_audio.append(load_wav_16k_mono(row[\"file_name\"]))\n",
        "    test_labels.append(row['label'])\n",
        "    \n",
        "y_pred=[]\n",
        "for test_sound in test_audio:\n",
        "    y_pred.append(reloaded_model(test_sound))\n",
        "y_pred = np.argmax(y_pred, axis=1)\n",
        "\n",
        "y_true = test_labels\n",
        "\n",
        "test_acc = sum(y_pred == y_true) / len(y_true)\n",
        "print(f'Test set accuracy: {test_acc:.0%}')"
      ],
      "execution_count": null,
      "outputs": []
    },
    {
      "cell_type": "markdown",
      "metadata": {
        "id": "IYZO949uSIyo"
      },
      "source": [
        "**Display a confusion matrix**\n",
        "\n",
        "A confusion matrix is helpful to see how well the model did on each of the classes in the test set."
      ]
    },
    {
      "cell_type": "code",
      "metadata": {
        "colab": {
          "base_uri": "https://localhost:8080/",
          "height": 497
        },
        "id": "5VYhcSvROd6S",
        "outputId": "86b8c635-daee-4ab1-fdd9-93f20faafdd7"
      },
      "source": [
        "confusion_mtx = tf.math.confusion_matrix(y_true, y_pred) \n",
        "plt.figure(figsize=(10, 8))\n",
        "sns.heatmap(confusion_mtx, xticklabels=my_classes, yticklabels=my_classes, \n",
        "            annot=True, fmt='g')\n",
        "plt.xlabel('Prediction')\n",
        "plt.ylabel('Label')\n",
        "plt.show()"
      ],
      "execution_count": 27,
      "outputs": [
        {
          "output_type": "display_data",
          "data": {
            "image/png": "[encoded data removed]",
            "text/plain": [
              "<Figure size 720x576 with 2 Axes>"
            ]
          },
          "metadata": {
            "tags": [],
            "needs_background": "light"
          }
        }
      ]
    }
  ]
}