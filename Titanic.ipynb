{
  "nbformat": 4,
  "nbformat_minor": 0,
  "metadata": {
    "colab": {
      "name": "Titanic.ipynb",
      "provenance": [],
      "authorship_tag": "ABX9TyPWTpJXGAdeVM6nFz5P7Fnf",
      "include_colab_link": true
    },
    "kernelspec": {
      "name": "python3",
      "display_name": "Python 3"
    },
    "language_info": {
      "name": "python"
    }
  },
  "cells": [
    {
      "cell_type": "markdown",
      "metadata": {
        "id": "view-in-github",
        "colab_type": "text"
      },
      "source": [
        "<a href=\"https://colab.research.google.com/github/dvircohen0/projects/blob/main/Titanic.ipynb\" target=\"_parent\"><img src=\"https://colab.research.google.com/assets/colab-badge.svg\" alt=\"Open In Colab\"/></a>"
      ]
    },
    {
      "cell_type": "code",
      "metadata": {
        "id": "m4tZ_Rb48ZRZ"
      },
      "source": [
        "gender_submission_url= 'https://raw.githubusercontent.com/minsuk-heo/kaggle-titanic/master/input/gender_submission.csv'\n",
        "train_url= 'https://raw.githubusercontent.com/minsuk-heo/kaggle-titanic/master/input/train.csv'\n",
        "test_url= 'https://raw.githubusercontent.com/minsuk-heo/kaggle-titanic/master/input/test.csv'"
      ],
      "execution_count": 6,
      "outputs": []
    },
    {
      "cell_type": "code",
      "metadata": {
        "id": "5MDWdyLU80V1"
      },
      "source": [
        "from sklearn.compose import make_column_transformer\n",
        "from sklearn.preprocessing import OneHotEncoder,OrdinalEncoder,StandardScaler\n",
        "from sklearn.experimental import enable_iterative_imputer\n",
        "from sklearn.impute import IterativeImputer,  SimpleImputer\n",
        "from sklearn.pipeline import make_pipeline\n",
        "from sklearn.preprocessing import FunctionTransformer\n",
        "from sklearn.metrics import accuracy_score, f1_score,precision_score, recall_score,roc_auc_score \n",
        "from sklearn.linear_model import Perceptron,SGDClassifier,LogisticRegression\n",
        "from sklearn.tree import DecisionTreeClassifier\n",
        "from sklearn.neighbors import KNeighborsClassifier\n",
        "from sklearn.svm import SVC, LinearSVC\n",
        "from sklearn.naive_bayes import GaussianNB\n",
        "from sklearn.model_selection import GridSearchCV, cross_val_score, train_test_split\n",
        "from sklearn.ensemble import  VotingClassifier, RandomForestClassifier\n",
        "\n",
        "from keras.wrappers.scikit_learn import KerasClassifier\n",
        "from keras.models import Sequential\n",
        "from keras.layers import Dense, Dropout\n",
        "\n",
        "import numpy as np\n",
        "import pandas as pd\n",
        "import itertools\n",
        "import matplotlib.pyplot as plt\n",
        "import seaborn as sns"
      ],
      "execution_count": 3,
      "outputs": []
    },
    {
      "cell_type": "code",
      "metadata": {
        "colab": {
          "base_uri": "https://localhost:8080/",
          "height": 428
        },
        "id": "gdoW6dpG89pl",
        "outputId": "b0df4ce5-e11f-4cc7-cf4d-dcb911c721f1"
      },
      "source": [
        "test=pd.read_csv(test_url)\n",
        "test.head()"
      ],
      "execution_count": 7,
      "outputs": [
        {
          "output_type": "execute_result",
          "data": {
            "text/html": [
              "<div>\n",
              "<style scoped>\n",
              "    .dataframe tbody tr th:only-of-type {\n",
              "        vertical-align: middle;\n",
              "    }\n",
              "\n",
              "    .dataframe tbody tr th {\n",
              "        vertical-align: top;\n",
              "    }\n",
              "\n",
              "    .dataframe thead th {\n",
              "        text-align: right;\n",
              "    }\n",
              "</style>\n",
              "<table border=\"1\" class=\"dataframe\">\n",
              "  <thead>\n",
              "    <tr style=\"text-align: right;\">\n",
              "      <th></th>\n",
              "      <th>PassengerId</th>\n",
              "      <th>Pclass</th>\n",
              "      <th>Name</th>\n",
              "      <th>Sex</th>\n",
              "      <th>Age</th>\n",
              "      <th>SibSp</th>\n",
              "      <th>Parch</th>\n",
              "      <th>Ticket</th>\n",
              "      <th>Fare</th>\n",
              "      <th>Cabin</th>\n",
              "      <th>Embarked</th>\n",
              "    </tr>\n",
              "  </thead>\n",
              "  <tbody>\n",
              "    <tr>\n",
              "      <th>0</th>\n",
              "      <td>892</td>\n",
              "      <td>3</td>\n",
              "      <td>Kelly, Mr. James</td>\n",
              "      <td>male</td>\n",
              "      <td>34.5</td>\n",
              "      <td>0</td>\n",
              "      <td>0</td>\n",
              "      <td>330911</td>\n",
              "      <td>7.8292</td>\n",
              "      <td>NaN</td>\n",
              "      <td>Q</td>\n",
              "    </tr>\n",
              "    <tr>\n",
              "      <th>1</th>\n",
              "      <td>893</td>\n",
              "      <td>3</td>\n",
              "      <td>Wilkes, Mrs. James (Ellen Needs)</td>\n",
              "      <td>female</td>\n",
              "      <td>47.0</td>\n",
              "      <td>1</td>\n",
              "      <td>0</td>\n",
              "      <td>363272</td>\n",
              "      <td>7.0000</td>\n",
              "      <td>NaN</td>\n",
              "      <td>S</td>\n",
              "    </tr>\n",
              "    <tr>\n",
              "      <th>2</th>\n",
              "      <td>894</td>\n",
              "      <td>2</td>\n",
              "      <td>Myles, Mr. Thomas Francis</td>\n",
              "      <td>male</td>\n",
              "      <td>62.0</td>\n",
              "      <td>0</td>\n",
              "      <td>0</td>\n",
              "      <td>240276</td>\n",
              "      <td>9.6875</td>\n",
              "      <td>NaN</td>\n",
              "      <td>Q</td>\n",
              "    </tr>\n",
              "    <tr>\n",
              "      <th>3</th>\n",
              "      <td>895</td>\n",
              "      <td>3</td>\n",
              "      <td>Wirz, Mr. Albert</td>\n",
              "      <td>male</td>\n",
              "      <td>27.0</td>\n",
              "      <td>0</td>\n",
              "      <td>0</td>\n",
              "      <td>315154</td>\n",
              "      <td>8.6625</td>\n",
              "      <td>NaN</td>\n",
              "      <td>S</td>\n",
              "    </tr>\n",
              "    <tr>\n",
              "      <th>4</th>\n",
              "      <td>896</td>\n",
              "      <td>3</td>\n",
              "      <td>Hirvonen, Mrs. Alexander (Helga E Lindqvist)</td>\n",
              "      <td>female</td>\n",
              "      <td>22.0</td>\n",
              "      <td>1</td>\n",
              "      <td>1</td>\n",
              "      <td>3101298</td>\n",
              "      <td>12.2875</td>\n",
              "      <td>NaN</td>\n",
              "      <td>S</td>\n",
              "    </tr>\n",
              "  </tbody>\n",
              "</table>\n",
              "</div>"
            ],
            "text/plain": [
              "   PassengerId  Pclass  ... Cabin Embarked\n",
              "0          892       3  ...   NaN        Q\n",
              "1          893       3  ...   NaN        S\n",
              "2          894       2  ...   NaN        Q\n",
              "3          895       3  ...   NaN        S\n",
              "4          896       3  ...   NaN        S\n",
              "\n",
              "[5 rows x 11 columns]"
            ]
          },
          "metadata": {
            "tags": []
          },
          "execution_count": 7
        }
      ]
    },
    {
      "cell_type": "code",
      "metadata": {
        "colab": {
          "base_uri": "https://localhost:8080/",
          "height": 496
        },
        "id": "anmPfLRq-bFG",
        "outputId": "0bbef5cd-2f07-4c40-c12c-01cc7c4d5f7a"
      },
      "source": [
        "train=pd.read_csv(train_url)\n",
        "train.head()"
      ],
      "execution_count": 8,
      "outputs": [
        {
          "output_type": "execute_result",
          "data": {
            "text/html": [
              "<div>\n",
              "<style scoped>\n",
              "    .dataframe tbody tr th:only-of-type {\n",
              "        vertical-align: middle;\n",
              "    }\n",
              "\n",
              "    .dataframe tbody tr th {\n",
              "        vertical-align: top;\n",
              "    }\n",
              "\n",
              "    .dataframe thead th {\n",
              "        text-align: right;\n",
              "    }\n",
              "</style>\n",
              "<table border=\"1\" class=\"dataframe\">\n",
              "  <thead>\n",
              "    <tr style=\"text-align: right;\">\n",
              "      <th></th>\n",
              "      <th>PassengerId</th>\n",
              "      <th>Survived</th>\n",
              "      <th>Pclass</th>\n",
              "      <th>Name</th>\n",
              "      <th>Sex</th>\n",
              "      <th>Age</th>\n",
              "      <th>SibSp</th>\n",
              "      <th>Parch</th>\n",
              "      <th>Ticket</th>\n",
              "      <th>Fare</th>\n",
              "      <th>Cabin</th>\n",
              "      <th>Embarked</th>\n",
              "    </tr>\n",
              "  </thead>\n",
              "  <tbody>\n",
              "    <tr>\n",
              "      <th>0</th>\n",
              "      <td>1</td>\n",
              "      <td>0</td>\n",
              "      <td>3</td>\n",
              "      <td>Braund, Mr. Owen Harris</td>\n",
              "      <td>male</td>\n",
              "      <td>22.0</td>\n",
              "      <td>1</td>\n",
              "      <td>0</td>\n",
              "      <td>A/5 21171</td>\n",
              "      <td>7.2500</td>\n",
              "      <td>NaN</td>\n",
              "      <td>S</td>\n",
              "    </tr>\n",
              "    <tr>\n",
              "      <th>1</th>\n",
              "      <td>2</td>\n",
              "      <td>1</td>\n",
              "      <td>1</td>\n",
              "      <td>Cumings, Mrs. John Bradley (Florence Briggs Th...</td>\n",
              "      <td>female</td>\n",
              "      <td>38.0</td>\n",
              "      <td>1</td>\n",
              "      <td>0</td>\n",
              "      <td>PC 17599</td>\n",
              "      <td>71.2833</td>\n",
              "      <td>C85</td>\n",
              "      <td>C</td>\n",
              "    </tr>\n",
              "    <tr>\n",
              "      <th>2</th>\n",
              "      <td>3</td>\n",
              "      <td>1</td>\n",
              "      <td>3</td>\n",
              "      <td>Heikkinen, Miss. Laina</td>\n",
              "      <td>female</td>\n",
              "      <td>26.0</td>\n",
              "      <td>0</td>\n",
              "      <td>0</td>\n",
              "      <td>STON/O2. 3101282</td>\n",
              "      <td>7.9250</td>\n",
              "      <td>NaN</td>\n",
              "      <td>S</td>\n",
              "    </tr>\n",
              "    <tr>\n",
              "      <th>3</th>\n",
              "      <td>4</td>\n",
              "      <td>1</td>\n",
              "      <td>1</td>\n",
              "      <td>Futrelle, Mrs. Jacques Heath (Lily May Peel)</td>\n",
              "      <td>female</td>\n",
              "      <td>35.0</td>\n",
              "      <td>1</td>\n",
              "      <td>0</td>\n",
              "      <td>113803</td>\n",
              "      <td>53.1000</td>\n",
              "      <td>C123</td>\n",
              "      <td>S</td>\n",
              "    </tr>\n",
              "    <tr>\n",
              "      <th>4</th>\n",
              "      <td>5</td>\n",
              "      <td>0</td>\n",
              "      <td>3</td>\n",
              "      <td>Allen, Mr. William Henry</td>\n",
              "      <td>male</td>\n",
              "      <td>35.0</td>\n",
              "      <td>0</td>\n",
              "      <td>0</td>\n",
              "      <td>373450</td>\n",
              "      <td>8.0500</td>\n",
              "      <td>NaN</td>\n",
              "      <td>S</td>\n",
              "    </tr>\n",
              "  </tbody>\n",
              "</table>\n",
              "</div>"
            ],
            "text/plain": [
              "   PassengerId  Survived  Pclass  ...     Fare Cabin  Embarked\n",
              "0            1         0       3  ...   7.2500   NaN         S\n",
              "1            2         1       1  ...  71.2833   C85         C\n",
              "2            3         1       3  ...   7.9250   NaN         S\n",
              "3            4         1       1  ...  53.1000  C123         S\n",
              "4            5         0       3  ...   8.0500   NaN         S\n",
              "\n",
              "[5 rows x 12 columns]"
            ]
          },
          "metadata": {
            "tags": []
          },
          "execution_count": 8
        }
      ]
    },
    {
      "cell_type": "code",
      "metadata": {
        "colab": {
          "base_uri": "https://localhost:8080/"
        },
        "id": "k9KkYMY--fzd",
        "outputId": "b9f9dba4-41c9-49ca-f5e6-4d6811b6275b"
      },
      "source": [
        "train.isna().sum()"
      ],
      "execution_count": 9,
      "outputs": [
        {
          "output_type": "execute_result",
          "data": {
            "text/plain": [
              "PassengerId      0\n",
              "Survived         0\n",
              "Pclass           0\n",
              "Name             0\n",
              "Sex              0\n",
              "Age            177\n",
              "SibSp            0\n",
              "Parch            0\n",
              "Ticket           0\n",
              "Fare             0\n",
              "Cabin          687\n",
              "Embarked         2\n",
              "dtype: int64"
            ]
          },
          "metadata": {
            "tags": []
          },
          "execution_count": 9
        }
      ]
    },
    {
      "cell_type": "code",
      "metadata": {
        "colab": {
          "base_uri": "https://localhost:8080/",
          "height": 558
        },
        "id": "RjfjnkTq-h-Z",
        "outputId": "a80bfbc0-6dd0-4dea-81a4-39a108479241"
      },
      "source": [
        "columns = ['Age', 'Fare']\n",
        "\n",
        "for feature in columns:\n",
        "    g = sns.kdeplot(train[feature][(train[\"Survived\"] == 0) & (train[feature].notnull())], color=\"Red\", shade = True)\n",
        "    g = sns.kdeplot(train[feature][(train[\"Survived\"] == 1) & (train[feature].notnull())], ax =g, color=\"Blue\", shade= True)\n",
        "    g.set_xlabel(feature)\n",
        "    g.set_ylabel(\"Frequency\")\n",
        "    g = g.legend([\"Not Survived\",\"Survived\"])\n",
        "    plt.figure()"
      ],
      "execution_count": 10,
      "outputs": [
        {
          "output_type": "display_data",
          "data": {
            "image/png": "[encoded data removed]",
            "text/plain": [
              "<Figure size 432x288 with 1 Axes>"
            ]
          },
          "metadata": {
            "tags": [],
            "needs_background": "light"
          }
        },
        {
          "output_type": "display_data",
          "data": {
            "image/png": "[encoded data removed]",
            "text/plain": [
              "<Figure size 432x288 with 1 Axes>"
            ]
          },
          "metadata": {
            "tags": [],
            "needs_background": "light"
          }
        },
        {
          "output_type": "display_data",
          "data": {
            "text/plain": [
              "<Figure size 432x288 with 0 Axes>"
            ]
          },
          "metadata": {
            "tags": []
          }
        }
      ]
    },
    {
      "cell_type": "code",
      "metadata": {
        "colab": {
          "base_uri": "https://localhost:8080/",
          "height": 1000
        },
        "id": "H2_Olf71-jPy",
        "outputId": "731a223a-63a1-4c11-87ed-4c166f00570f"
      },
      "source": [
        "categorical = ['Pclass','Sex','SibSp','Parch', 'Embarked']\n",
        "       \n",
        "\n",
        "for feature in categorical:\n",
        "    g = sns.barplot(x=feature,y=\"Survived\",data=train)\n",
        "    g = g.set_ylabel(\"Survival Probability\")\n",
        "    plt.figure()"
      ],
      "execution_count": 11,
      "outputs": [
        {
          "output_type": "display_data",
          "data": {
            "image/png": "[encoded data removed]",
            "text/plain": [
              "<Figure size 432x288 with 1 Axes>"
            ]
          },
          "metadata": {
            "tags": [],
            "needs_background": "light"
          }
        },
        {
          "output_type": "display_data",
          "data": {
            "image/png": "[encoded data removed]",
            "text/plain": [
              "<Figure size 432x288 with 1 Axes>"
            ]
          },
          "metadata": {
            "tags": [],
            "needs_background": "light"
          }
        },
        {
          "output_type": "display_data",
          "data": {
            "image/png": "[encoded data removed]",
            "text/plain": [
              "<Figure size 432x288 with 1 Axes>"
            ]
          },
          "metadata": {
            "tags": [],
            "needs_background": "light"
          }
        },
        {
          "output_type": "display_data",
          "data": {
            "image/png": "[encoded data removed]",
            "text/plain": [
              "<Figure size 432x288 with 1 Axes>"
            ]
          },
          "metadata": {
            "tags": [],
            "needs_background": "light"
          }
        },
        {
          "output_type": "display_data",
          "data": {
            "image/png": "[encoded data removed]",
            "text/plain": [
              "<Figure size 432x288 with 1 Axes>"
            ]
          },
          "metadata": {
            "tags": [],
            "needs_background": "light"
          }
        },
        {
          "output_type": "display_data",
          "data": {
            "text/plain": [
              "<Figure size 432x288 with 0 Axes>"
            ]
          },
          "metadata": {
            "tags": []
          }
        }
      ]
    },
    {
      "cell_type": "code",
      "metadata": {
        "id": "P_miDuIj-nlI"
      },
      "source": [
        "y = train['Survived']\n",
        "X=train.drop('Survived',axis='columns')\n",
        "\n",
        "X_train, X_test, y_train, y_test = train_test_split(\n",
        "X, y, test_size=0.33, random_state=42)"
      ],
      "execution_count": 12,
      "outputs": []
    },
    {
      "cell_type": "code",
      "metadata": {
        "id": "1UgXtbDY-syr"
      },
      "source": [
        "# use the first letter on the cabin name as a cabin nuber feature\n",
        "def cabine_edit(X):\n",
        "    X=X.fillna('U')\n",
        "    X=X.applymap(lambda x: x[0])\n",
        "    X=X.applymap(lambda x: x.replace('T', 'U'))\n",
        "    return X\n",
        "\n",
        "def name_edit(X):\n",
        "    common = [\"Mr.\",\"Miss.\",\"Mrs.\",\"Master.\",\"Dr.\"]\n",
        "    X=X.applymap(lambda x: x[1])\n",
        "    X=X.applymap(lambda x: x if x in common else 'Rare')\n",
        "    return X\n",
        "\n",
        "# pipe for numeric features, fill Nan and scale\n",
        "numer_pipe=make_pipeline(IterativeImputer(max_iter=10,random_state=0),\n",
        "                      StandardScaler())\n",
        "\n",
        "# wrap the cabin_edin func to fit into pipline\n",
        "cabine_pipe=make_pipeline(FunctionTransformer(cabine_edit),\n",
        "                          OrdinalEncoder())\n",
        "\n",
        "# fill missing values and  one hot encode\n",
        "Embarked_pipe=make_pipeline(SimpleImputer(missing_values=np.nan,\n",
        "                            strategy='most_frequent')\n",
        "                            ,OneHotEncoder())\n",
        "\n",
        "\n",
        "# fill missing values and  one hot encode\n",
        "Name_pipe=make_pipeline(FunctionTransformer(name_edit)\n",
        "                            ,OneHotEncoder())\n",
        "\n",
        "\n",
        "column_trans = make_column_transformer(\n",
        "    (numer_pipe, ['Age','Fare']),\n",
        "    (OneHotEncoder(), ['Sex']),\n",
        "    (Embarked_pipe, ['Embarked']),\n",
        "    (cabine_pipe, ['Cabin']),\n",
        "    (Name_pipe,['Name']),\n",
        "    ('drop',['PassengerId','Ticket']),\n",
        "    remainder='passthrough')"
      ],
      "execution_count": 13,
      "outputs": []
    },
    {
      "cell_type": "markdown",
      "metadata": {
        "id": "CT9-7rMv_0Oo"
      },
      "source": [
        "**Trying different models**"
      ]
    },
    {
      "cell_type": "code",
      "metadata": {
        "colab": {
          "base_uri": "https://localhost:8080/"
        },
        "id": "i6RCDUcw-vtr",
        "outputId": "01082c8f-46df-4e58-984b-1b755523a09a"
      },
      "source": [
        "sgd = SGDClassifier(max_iter=5, tol=None)\n",
        "random_forest = RandomForestClassifier(n_estimators=100)\n",
        "logreg = LogisticRegression()\n",
        "knn = KNeighborsClassifier(n_neighbors = 5)\n",
        "gaussian = GaussianNB()\n",
        "perceptron = Perceptron()\n",
        "linear_svc = LinearSVC(dual=False)\n",
        "decision_tree = DecisionTreeClassifier()\n",
        "\n",
        "models= [sgd,random_forest,logreg,knn,gaussian,perceptron,\n",
        "        linear_svc,decision_tree]\n",
        "\n",
        "\n",
        "for model in models:\n",
        "    print(model)\n",
        "    pipe=make_pipeline(column_trans,model)\n",
        "    pipe.fit(X_train,y_train)\n",
        "    y_pred = pipe.predict(X_test)\n",
        "    \n",
        "    print(\"cross validation: {:.2f}\".format(cross_val_score(pipe,X_train,y_train,cv=5,scoring='accuracy').mean()))\n",
        "    print(\"Acuraccy: {:.2f}\".format(accuracy_score(y_test, y_pred)))\n",
        "    print(\"F1: {:.2f}\".format(f1_score(y_test, y_pred)))\n",
        "    print(\"Precision: {:.2f}\".format(precision_score(y_test, y_pred)))\n",
        "    print(\"Recall: {:.2f}\".format(recall_score(y_test, y_pred)))\n",
        "    print(\"ROC-AUC-Score: {:.2f}\".format(roc_auc_score(y_test, y_pred)))\n",
        "    print(\"\")"
      ],
      "execution_count": 14,
      "outputs": [
        {
          "output_type": "stream",
          "text": [
            "SGDClassifier(alpha=0.0001, average=False, class_weight=None,\n",
            "              early_stopping=False, epsilon=0.1, eta0=0.0, fit_intercept=True,\n",
            "              l1_ratio=0.15, learning_rate='optimal', loss='hinge', max_iter=5,\n",
            "              n_iter_no_change=5, n_jobs=None, penalty='l2', power_t=0.5,\n",
            "              random_state=None, shuffle=True, tol=None,\n",
            "              validation_fraction=0.1, verbose=0, warm_start=False)\n",
            "cross validation: 0.72\n",
            "Acuraccy: 0.81\n",
            "F1: 0.77\n",
            "Precision: 0.76\n",
            "Recall: 0.78\n",
            "ROC-AUC-Score: 0.81\n",
            "\n",
            "RandomForestClassifier(bootstrap=True, ccp_alpha=0.0, class_weight=None,\n",
            "                       criterion='gini', max_depth=None, max_features='auto',\n",
            "                       max_leaf_nodes=None, max_samples=None,\n",
            "                       min_impurity_decrease=0.0, min_impurity_split=None,\n",
            "                       min_samples_leaf=1, min_samples_split=2,\n",
            "                       min_weight_fraction_leaf=0.0, n_estimators=100,\n",
            "                       n_jobs=None, oob_score=False, random_state=None,\n",
            "                       verbose=0, warm_start=False)\n",
            "cross validation: 0.79\n",
            "Acuraccy: 0.80\n",
            "F1: 0.75\n",
            "Precision: 0.79\n",
            "Recall: 0.71\n",
            "ROC-AUC-Score: 0.79\n",
            "\n",
            "LogisticRegression(C=1.0, class_weight=None, dual=False, fit_intercept=True,\n",
            "                   intercept_scaling=1, l1_ratio=None, max_iter=100,\n",
            "                   multi_class='auto', n_jobs=None, penalty='l2',\n",
            "                   random_state=None, solver='lbfgs', tol=0.0001, verbose=0,\n",
            "                   warm_start=False)\n",
            "cross validation: 0.79\n",
            "Acuraccy: 0.82\n",
            "F1: 0.77\n",
            "Precision: 0.80\n",
            "Recall: 0.73\n",
            "ROC-AUC-Score: 0.80\n",
            "\n",
            "KNeighborsClassifier(algorithm='auto', leaf_size=30, metric='minkowski',\n",
            "                     metric_params=None, n_jobs=None, n_neighbors=5, p=2,\n",
            "                     weights='uniform')\n",
            "cross validation: 0.78\n",
            "Acuraccy: 0.79\n",
            "F1: 0.73\n",
            "Precision: 0.77\n",
            "Recall: 0.70\n",
            "ROC-AUC-Score: 0.78\n",
            "\n",
            "GaussianNB(priors=None, var_smoothing=1e-09)\n",
            "cross validation: 0.76\n",
            "Acuraccy: 0.79\n",
            "F1: 0.76\n",
            "Precision: 0.73\n",
            "Recall: 0.78\n",
            "ROC-AUC-Score: 0.79\n",
            "\n",
            "Perceptron(alpha=0.0001, class_weight=None, early_stopping=False, eta0=1.0,\n",
            "           fit_intercept=True, max_iter=1000, n_iter_no_change=5, n_jobs=None,\n",
            "           penalty=None, random_state=0, shuffle=True, tol=0.001,\n",
            "           validation_fraction=0.1, verbose=0, warm_start=False)\n",
            "cross validation: 0.70\n",
            "Acuraccy: 0.80\n",
            "F1: 0.70\n",
            "Precision: 0.89\n",
            "Recall: 0.58\n",
            "ROC-AUC-Score: 0.77\n",
            "\n",
            "LinearSVC(C=1.0, class_weight=None, dual=False, fit_intercept=True,\n",
            "          intercept_scaling=1, loss='squared_hinge', max_iter=1000,\n",
            "          multi_class='ovr', penalty='l2', random_state=None, tol=0.0001,\n",
            "          verbose=0)\n",
            "cross validation: 0.79\n",
            "Acuraccy: 0.82\n",
            "F1: 0.76\n",
            "Precision: 0.81\n",
            "Recall: 0.72\n",
            "ROC-AUC-Score: 0.80\n",
            "\n",
            "DecisionTreeClassifier(ccp_alpha=0.0, class_weight=None, criterion='gini',\n",
            "                       max_depth=None, max_features=None, max_leaf_nodes=None,\n",
            "                       min_impurity_decrease=0.0, min_impurity_split=None,\n",
            "                       min_samples_leaf=1, min_samples_split=2,\n",
            "                       min_weight_fraction_leaf=0.0, presort='deprecated',\n",
            "                       random_state=None, splitter='best')\n",
            "cross validation: 0.75\n",
            "Acuraccy: 0.76\n",
            "F1: 0.70\n",
            "Precision: 0.70\n",
            "Recall: 0.70\n",
            "ROC-AUC-Score: 0.75\n",
            "\n"
          ],
          "name": "stdout"
        }
      ]
    },
    {
      "cell_type": "markdown",
      "metadata": {
        "id": "ASE6I_dR_wlI"
      },
      "source": [
        "**Trying ensemble model**"
      ]
    },
    {
      "cell_type": "code",
      "metadata": {
        "colab": {
          "base_uri": "https://localhost:8080/"
        },
        "id": "JZG9aKHd-3hp",
        "outputId": "fdb5dd02-7dca-4556-eb58-a7034d88b1be"
      },
      "source": [
        "eclf1 = VotingClassifier(estimators=[\n",
        " ('lr', linear_svc),\n",
        " ('random_forest', random_forest),\n",
        " ('logreg', logreg)],\n",
        "  voting='hard')\n",
        "\n",
        "pipe=make_pipeline(column_trans,eclf1)\n",
        "pipe.fit(X_train,y_train)\n",
        "y_pred = pipe.predict(X_test)\n",
        "\n",
        "print(\"cross validation: {:.2f}\".format(cross_val_score(pipe,X_train,y_train,cv=5,scoring='accuracy').mean()))\n",
        "print(\"Acuraccy: {:.2f}\".format(accuracy_score(y_test, y_pred)))\n",
        "print(\"F1: {:.2f}\".format(f1_score(y_test, y_pred)))\n",
        "print(\"Precision: {:.2f}\".format(precision_score(y_test, y_pred)))\n",
        "print(\"Recall: {:.2f}\".format(recall_score(y_test, y_pred)))\n",
        "print(\"ROC-AUC-Score: {:.2f}\".format(roc_auc_score(y_test, y_pred)))\n",
        "print(\"\")"
      ],
      "execution_count": 15,
      "outputs": [
        {
          "output_type": "stream",
          "text": [
            "cross validation: 0.80\n",
            "Acuraccy: 0.82\n",
            "F1: 0.77\n",
            "Precision: 0.81\n",
            "Recall: 0.73\n",
            "ROC-AUC-Score: 0.81\n",
            "\n"
          ],
          "name": "stdout"
        }
      ]
    },
    {
      "cell_type": "markdown",
      "metadata": {
        "id": "oxrP9tW5_srv"
      },
      "source": [
        "**Perform Grid Search on best Model**"
      ]
    },
    {
      "cell_type": "code",
      "metadata": {
        "colab": {
          "base_uri": "https://localhost:8080/"
        },
        "id": "xm3j_Gp3-6zZ",
        "outputId": "a0b9a19e-f286-48fd-da00-68f7694af040"
      },
      "source": [
        "params = {'C' : np.arange(0.01,100,10)}\n",
        "clf =  GridSearchCV(linear_svc, params)\n",
        "pipe=make_pipeline(column_trans,clf)\n",
        "pipe.fit(X_train,y_train)\n",
        "y_pred = pipe.predict(X_test)\n",
        "print(\"cross validation: {:.2f}\".format(cross_val_score(pipe,X_train,y_train,cv=5,scoring='accuracy').mean()))\n",
        "print(\"Acuraccy: {:.2f}\".format(accuracy_score(y_test, y_pred)))\n",
        "print(\"F1: {:.2f}\".format(f1_score(y_test, y_pred)))\n",
        "print(\"Precision: {:.2f}\".format(precision_score(y_test, y_pred)))\n",
        "print(\"Recall: {:.2f}\".format(recall_score(y_test, y_pred)))\n",
        "print(\"ROC-AUC-Score: {:.2f}\".format(roc_auc_score(y_test, y_pred)))\n",
        "print(\"\")"
      ],
      "execution_count": 16,
      "outputs": [
        {
          "output_type": "stream",
          "text": [
            "cross validation: 0.79\n",
            "Acuraccy: 0.82\n",
            "F1: 0.76\n",
            "Precision: 0.81\n",
            "Recall: 0.72\n",
            "ROC-AUC-Score: 0.80\n",
            "\n"
          ],
          "name": "stdout"
        }
      ]
    },
    {
      "cell_type": "markdown",
      "metadata": {
        "id": "-WBN5KvK_oZP"
      },
      "source": [
        "**Trying neural network**"
      ]
    },
    {
      "cell_type": "code",
      "metadata": {
        "id": "4Uq0wkHi---8"
      },
      "source": [
        "def build_classifier():\n",
        "    classifier = Sequential()\n",
        "    classifier.add(Dense(units=10,kernel_initializer='uniform',activation='relu',input_dim=12))\n",
        "    classifier.add(Dropout(rate = 0.2))\n",
        "    classifier.add(Dense(units=128,kernel_initializer='uniform',activation='relu'))\n",
        "    classifier.add(Dropout(rate = 0.2))\n",
        "    classifier.add(Dense(units=1,kernel_initializer='uniform',activation='sigmoid'))\n",
        "    classifier.compile(optimizer=\"Adam\",loss='binary_crossentropy',metrics=['accuracy'])\n",
        "    return classifier\n",
        "\n",
        "\n",
        "classifier = KerasClassifier(build_fn = build_classifier)\n",
        "param_grid = dict(epochs=[10, 20, 50], batch_size=[16, 25, 32])\n",
        "grid = GridSearchCV(estimator=classifier, param_grid=param_grid, scoring='accuracy')\n",
        "\n",
        "pipe=make_pipeline(column_trans,grid)\n",
        "pipe.fit(X_train,y_train)\n",
        "\n"
      ],
      "execution_count": null,
      "outputs": []
    },
    {
      "cell_type": "code",
      "metadata": {
        "colab": {
          "base_uri": "https://localhost:8080/"
        },
        "id": "aGk1OY7h_bY_",
        "outputId": "8bed024a-b624-4657-8919-90a305beb4a2"
      },
      "source": [
        "y_pred=pipe.predict(X_test)\n",
        "print(\"Acuraccy: {:.2f}\".format(accuracy_score(y_test, y_pred)))\n",
        "print(\"F1: {:.2f}\".format(f1_score(y_test, y_pred)))\n",
        "print(\"Precision: {:.2f}\".format(precision_score(y_test, y_pred)))\n",
        "print(\"Recall: {:.2f}\".format(recall_score(y_test, y_pred)))\n",
        "print(\"ROC-AUC-Score: {:.2f}\".format(roc_auc_score(y_test, y_pred)))\n",
        "print(\"\")"
      ],
      "execution_count": 18,
      "outputs": [
        {
          "output_type": "stream",
          "text": [
            "Acuraccy: 0.82\n",
            "F1: 0.77\n",
            "Precision: 0.83\n",
            "Recall: 0.71\n",
            "ROC-AUC-Score: 0.81\n",
            "\n"
          ],
          "name": "stdout"
        },
        {
          "output_type": "stream",
          "text": [
            "/usr/local/lib/python3.7/dist-packages/tensorflow/python/keras/engine/sequential.py:450: UserWarning: `model.predict_classes()` is deprecated and will be removed after 2021-01-01. Please use instead:* `np.argmax(model.predict(x), axis=-1)`,   if your model does multi-class classification   (e.g. if it uses a `softmax` last-layer activation).* `(model.predict(x) > 0.5).astype(\"int32\")`,   if your model does binary classification   (e.g. if it uses a `sigmoid` last-layer activation).\n",
            "  warnings.warn('`model.predict_classes()` is deprecated and '\n"
          ],
          "name": "stderr"
        }
      ]
    }
  ]
}