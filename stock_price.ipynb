{
  "nbformat": 4,
  "nbformat_minor": 0,
  "metadata": {
    "colab": {
      "name": "stock_price.ipynb",
      "provenance": [],
      "authorship_tag": "ABX9TyMiwFL3e5eiIqQ2V66jkxUt",
      "include_colab_link": true
    },
    "kernelspec": {
      "name": "python3",
      "display_name": "Python 3"
    },
    "language_info": {
      "name": "python"
    },
    "accelerator": "GPU"
  },
  "cells": [
    {
      "cell_type": "markdown",
      "metadata": {
        "id": "view-in-github",
        "colab_type": "text"
      },
      "source": [
        "<a href=\"https://colab.research.google.com/github/dvircohen0/projects/blob/main/stock_price.ipynb\" target=\"_parent\"><img src=\"https://colab.research.google.com/assets/colab-badge.svg\" alt=\"Open In Colab\"/></a>"
      ]
    },
    {
      "cell_type": "code",
      "metadata": {
        "id": "Fktmg0PXA4Tf"
      },
      "source": [
        "import numpy as np \n",
        "import pandas as pd\n",
        "import os"
      ],
      "execution_count": 2,
      "outputs": []
    },
    {
      "cell_type": "code",
      "metadata": {
        "id": "OKZr-VKqBWLv"
      },
      "source": [
        "df = pd.read_csv('/content/ChartData (1).csv')"
      ],
      "execution_count": 27,
      "outputs": []
    },
    {
      "cell_type": "code",
      "metadata": {
        "id": "NC_jPU3wDQSd"
      },
      "source": [
        "cols=df.columns.tolist()"
      ],
      "execution_count": 29,
      "outputs": []
    },
    {
      "cell_type": "code",
      "metadata": {
        "colab": {
          "base_uri": "https://localhost:8080/",
          "height": 35
        },
        "id": "QJVco8e0IZM9",
        "outputId": "51d098a0-8e15-4868-a668-d3d22f53f6e7"
      },
      "source": [
        "cols[2]"
      ],
      "execution_count": 32,
      "outputs": [
        {
          "output_type": "execute_result",
          "data": {
            "application/vnd.google.colaboratory.intrinsic+json": {
              "type": "string"
            },
            "text/plain": [
              "\"מחזור (באלפי ש''ח) \""
            ]
          },
          "metadata": {
            "tags": []
          },
          "execution_count": 32
        }
      ]
    },
    {
      "cell_type": "code",
      "metadata": {
        "colab": {
          "base_uri": "https://localhost:8080/"
        },
        "id": "qHuFoB5ODTyn",
        "outputId": "4ab208c6-6bd3-420d-adcd-616f837ecc0a"
      },
      "source": [
        "group=df.groupby(\"תאריך\")\n",
        "df=group[cols[2]].mean()\n",
        "df.isnull().sum()"
      ],
      "execution_count": 33,
      "outputs": [
        {
          "output_type": "execute_result",
          "data": {
            "text/plain": [
              "0"
            ]
          },
          "metadata": {
            "tags": []
          },
          "execution_count": 33
        }
      ]
    },
    {
      "cell_type": "code",
      "metadata": {
        "id": "2J_AVMN7Djbs"
      },
      "source": [
        "close_train=df.iloc[:len(df)-50]\n",
        "close_test=df.iloc[len(close_train):]"
      ],
      "execution_count": 34,
      "outputs": []
    },
    {
      "cell_type": "code",
      "metadata": {
        "id": "kWMaJ27YDr8Q"
      },
      "source": [
        "close_train=np.array(close_train)\n",
        "close_train=close_train.reshape(close_train.shape[0],1)\n",
        "\n",
        "from sklearn.preprocessing import MinMaxScaler\n",
        "\n",
        "scaler=MinMaxScaler(feature_range=(0,1))\n",
        "close_scaled=scaler.fit_transform(close_train)"
      ],
      "execution_count": 35,
      "outputs": []
    },
    {
      "cell_type": "code",
      "metadata": {
        "colab": {
          "base_uri": "https://localhost:8080/"
        },
        "id": "HT6aCuPnDuQJ",
        "outputId": "61e17147-6dea-4b23-8213-70dafa5e375a"
      },
      "source": [
        "timestep=50\n",
        "x_train=[]\n",
        "y_train=[]\n",
        "\n",
        "for i in range(timestep,close_scaled.shape[0]):\n",
        "    x_train.append(close_scaled[i-timestep:i,0])\n",
        "    y_train.append(close_scaled[i,0])\n",
        "\n",
        "x_train,y_train=np.array(x_train),np.array(y_train)\n",
        "x_train=x_train.reshape(x_train.shape[0],x_train.shape[1],1) #reshaped for RNN\n",
        "print(\"x_train shape= \",x_train.shape)\n",
        "print(\"y_train shape= \",y_train.shape)"
      ],
      "execution_count": 36,
      "outputs": [
        {
          "output_type": "stream",
          "text": [
            "x_train shape=  (5140, 50, 1)\n",
            "y_train shape=  (5140,)\n"
          ],
          "name": "stdout"
        }
      ]
    },
    {
      "cell_type": "code",
      "metadata": {
        "colab": {
          "base_uri": "https://localhost:8080/"
        },
        "id": "hY7fm9I9Dxwk",
        "outputId": "7ac03c2c-9b2b-40b7-a943-965c440647fb"
      },
      "source": [
        "from sklearn.metrics import mean_absolute_error\n",
        "from keras.models import Sequential\n",
        "from keras.layers import Dense, LSTM, Dropout,Flatten\n",
        "\n",
        "model=Sequential()\n",
        "\n",
        "model.add(LSTM(10,input_shape=(None,1),activation=\"relu\"))\n",
        "\n",
        "model.add(Dense(1))\n",
        "\n",
        "model.compile(loss=\"mean_squared_error\",optimizer=\"adam\")\n",
        "\n",
        "model.fit(x_train,y_train,epochs=100,batch_size=32)"
      ],
      "execution_count": 37,
      "outputs": [
        {
          "output_type": "stream",
          "text": [
            "WARNING:tensorflow:Layer lstm_1 will not use cuDNN kernel since it doesn't meet the cuDNN kernel criteria. It will use generic GPU kernel as fallback when running on GPU\n",
            "Epoch 1/100\n",
            "161/161 [==============================] - 18s 103ms/step - loss: 0.0012\n",
            "Epoch 2/100\n",
            "161/161 [==============================] - 17s 105ms/step - loss: 0.0012\n",
            "Epoch 3/100\n",
            "161/161 [==============================] - 17s 103ms/step - loss: 0.0011\n",
            "Epoch 4/100\n",
            "161/161 [==============================] - 17s 106ms/step - loss: 0.0012\n",
            "Epoch 5/100\n",
            "161/161 [==============================] - 17s 105ms/step - loss: 0.0012\n",
            "Epoch 6/100\n",
            "161/161 [==============================] - 17s 106ms/step - loss: 0.0011\n",
            "Epoch 7/100\n",
            "161/161 [==============================] - 17s 105ms/step - loss: 0.0014\n",
            "Epoch 8/100\n",
            "161/161 [==============================] - 17s 103ms/step - loss: 0.0011\n",
            "Epoch 9/100\n",
            "161/161 [==============================] - 17s 104ms/step - loss: 9.0887e-04\n",
            "Epoch 10/100\n",
            "161/161 [==============================] - 17s 106ms/step - loss: 9.7539e-04\n",
            "Epoch 11/100\n",
            "161/161 [==============================] - 17s 106ms/step - loss: 8.8943e-04\n",
            "Epoch 12/100\n",
            "161/161 [==============================] - 17s 104ms/step - loss: 0.0014\n",
            "Epoch 13/100\n",
            "161/161 [==============================] - 17s 107ms/step - loss: 9.0652e-04\n",
            "Epoch 14/100\n",
            "161/161 [==============================] - 17s 107ms/step - loss: 9.1976e-04\n",
            "Epoch 15/100\n",
            "161/161 [==============================] - 17s 106ms/step - loss: 7.8405e-04\n",
            "Epoch 16/100\n",
            "161/161 [==============================] - 17s 106ms/step - loss: 9.4328e-04\n",
            "Epoch 17/100\n",
            "161/161 [==============================] - 17s 107ms/step - loss: 0.0011\n",
            "Epoch 18/100\n",
            "161/161 [==============================] - 17s 106ms/step - loss: 8.7391e-04\n",
            "Epoch 19/100\n",
            "161/161 [==============================] - 17s 103ms/step - loss: 9.4090e-04\n",
            "Epoch 20/100\n",
            "161/161 [==============================] - 17s 103ms/step - loss: 9.8517e-04\n",
            "Epoch 21/100\n",
            "161/161 [==============================] - 17s 106ms/step - loss: 0.0011\n",
            "Epoch 22/100\n",
            "161/161 [==============================] - 17s 105ms/step - loss: 7.9217e-04\n",
            "Epoch 23/100\n",
            "161/161 [==============================] - 17s 105ms/step - loss: 7.5848e-04\n",
            "Epoch 24/100\n",
            "161/161 [==============================] - 17s 105ms/step - loss: 0.0013\n",
            "Epoch 25/100\n",
            "161/161 [==============================] - 17s 103ms/step - loss: 7.7263e-04\n",
            "Epoch 26/100\n",
            "161/161 [==============================] - 17s 105ms/step - loss: 9.4677e-04\n",
            "Epoch 27/100\n",
            "161/161 [==============================] - 17s 104ms/step - loss: 7.7162e-04\n",
            "Epoch 28/100\n",
            "161/161 [==============================] - 17s 104ms/step - loss: 8.0574e-04\n",
            "Epoch 29/100\n",
            "161/161 [==============================] - 17s 105ms/step - loss: 9.5402e-04\n",
            "Epoch 30/100\n",
            "161/161 [==============================] - 17s 103ms/step - loss: 0.0012\n",
            "Epoch 31/100\n",
            "161/161 [==============================] - 17s 106ms/step - loss: 0.0011\n",
            "Epoch 32/100\n",
            "161/161 [==============================] - 17s 107ms/step - loss: 7.3391e-04\n",
            "Epoch 33/100\n",
            "161/161 [==============================] - 17s 104ms/step - loss: 9.8919e-04\n",
            "Epoch 34/100\n",
            "161/161 [==============================] - 17s 103ms/step - loss: 7.2810e-04\n",
            "Epoch 35/100\n",
            "161/161 [==============================] - 17s 104ms/step - loss: 7.3582e-04\n",
            "Epoch 36/100\n",
            "161/161 [==============================] - 17s 105ms/step - loss: 7.5308e-04\n",
            "Epoch 37/100\n",
            "161/161 [==============================] - 17s 103ms/step - loss: 0.0010\n",
            "Epoch 38/100\n",
            "161/161 [==============================] - 17s 107ms/step - loss: 0.0013\n",
            "Epoch 39/100\n",
            "161/161 [==============================] - 17s 105ms/step - loss: 9.4433e-04\n",
            "Epoch 40/100\n",
            "161/161 [==============================] - 17s 103ms/step - loss: 0.0013\n",
            "Epoch 41/100\n",
            "161/161 [==============================] - 17s 105ms/step - loss: 7.7269e-04\n",
            "Epoch 42/100\n",
            "161/161 [==============================] - 17s 106ms/step - loss: 0.0011\n",
            "Epoch 43/100\n",
            "161/161 [==============================] - 17s 104ms/step - loss: 0.0011\n",
            "Epoch 44/100\n",
            "161/161 [==============================] - 17s 105ms/step - loss: 8.7824e-04\n",
            "Epoch 45/100\n",
            "161/161 [==============================] - 17s 105ms/step - loss: 7.6129e-04\n",
            "Epoch 46/100\n",
            "161/161 [==============================] - 17s 104ms/step - loss: 6.9832e-04\n",
            "Epoch 47/100\n",
            "161/161 [==============================] - 17s 103ms/step - loss: 0.0011\n",
            "Epoch 48/100\n",
            "161/161 [==============================] - 17s 104ms/step - loss: 0.0014\n",
            "Epoch 49/100\n",
            "161/161 [==============================] - 17s 106ms/step - loss: 8.1206e-04\n",
            "Epoch 50/100\n",
            "161/161 [==============================] - 17s 106ms/step - loss: 9.2157e-04\n",
            "Epoch 51/100\n",
            "161/161 [==============================] - 17s 104ms/step - loss: 0.0012\n",
            "Epoch 52/100\n",
            "161/161 [==============================] - 17s 105ms/step - loss: 6.8490e-04\n",
            "Epoch 53/100\n",
            "161/161 [==============================] - 17s 105ms/step - loss: 7.7044e-04\n",
            "Epoch 54/100\n",
            "161/161 [==============================] - 16s 101ms/step - loss: 0.0011\n",
            "Epoch 55/100\n",
            "161/161 [==============================] - 17s 102ms/step - loss: 7.8242e-04\n",
            "Epoch 56/100\n",
            "161/161 [==============================] - 17s 103ms/step - loss: 7.3367e-04\n",
            "Epoch 57/100\n",
            "161/161 [==============================] - 17s 104ms/step - loss: 7.5456e-04\n",
            "Epoch 58/100\n",
            "161/161 [==============================] - 16s 102ms/step - loss: 7.3356e-04\n",
            "Epoch 59/100\n",
            "161/161 [==============================] - 17s 103ms/step - loss: 7.2172e-04\n",
            "Epoch 60/100\n",
            "161/161 [==============================] - 17s 103ms/step - loss: 0.0014\n",
            "Epoch 61/100\n",
            "161/161 [==============================] - 17s 104ms/step - loss: 7.0998e-04\n",
            "Epoch 62/100\n",
            "161/161 [==============================] - 17s 105ms/step - loss: 9.1101e-04\n",
            "Epoch 63/100\n",
            "161/161 [==============================] - 17s 105ms/step - loss: 8.4762e-04\n",
            "Epoch 64/100\n",
            "161/161 [==============================] - 17s 104ms/step - loss: 8.5663e-04\n",
            "Epoch 65/100\n",
            "161/161 [==============================] - 17s 105ms/step - loss: 0.0015\n",
            "Epoch 66/100\n",
            "161/161 [==============================] - 17s 107ms/step - loss: 0.0012\n",
            "Epoch 67/100\n",
            "161/161 [==============================] - 17s 103ms/step - loss: 6.8582e-04\n",
            "Epoch 68/100\n",
            "161/161 [==============================] - 17s 104ms/step - loss: 0.0011\n",
            "Epoch 69/100\n",
            "161/161 [==============================] - 17s 105ms/step - loss: 8.3912e-04\n",
            "Epoch 70/100\n",
            "161/161 [==============================] - 16s 102ms/step - loss: 7.1053e-04\n",
            "Epoch 71/100\n",
            "161/161 [==============================] - 17s 104ms/step - loss: 7.9899e-04\n",
            "Epoch 72/100\n",
            "161/161 [==============================] - 17s 103ms/step - loss: 6.6301e-04\n",
            "Epoch 73/100\n",
            "161/161 [==============================] - 17s 105ms/step - loss: 9.7787e-04\n",
            "Epoch 74/100\n",
            "161/161 [==============================] - 17s 104ms/step - loss: 7.9351e-04\n",
            "Epoch 75/100\n",
            "161/161 [==============================] - 17s 104ms/step - loss: 7.7564e-04\n",
            "Epoch 76/100\n",
            "161/161 [==============================] - 17s 106ms/step - loss: 6.8154e-04\n",
            "Epoch 77/100\n",
            "161/161 [==============================] - 17s 104ms/step - loss: 7.8171e-04\n",
            "Epoch 78/100\n",
            "161/161 [==============================] - 16s 102ms/step - loss: 0.0010\n",
            "Epoch 79/100\n",
            "161/161 [==============================] - 17s 105ms/step - loss: 6.4148e-04\n",
            "Epoch 80/100\n",
            "161/161 [==============================] - 17s 104ms/step - loss: 7.5020e-04\n",
            "Epoch 81/100\n",
            "161/161 [==============================] - 17s 104ms/step - loss: 9.2207e-04\n",
            "Epoch 82/100\n",
            "161/161 [==============================] - 17s 104ms/step - loss: 8.5975e-04\n",
            "Epoch 83/100\n",
            "161/161 [==============================] - 17s 106ms/step - loss: 7.6582e-04\n",
            "Epoch 84/100\n",
            "161/161 [==============================] - 17s 104ms/step - loss: 6.7405e-04\n",
            "Epoch 85/100\n",
            "161/161 [==============================] - 17s 105ms/step - loss: 6.5912e-04\n",
            "Epoch 86/100\n",
            "161/161 [==============================] - 17s 107ms/step - loss: 8.1095e-04\n",
            "Epoch 87/100\n",
            "161/161 [==============================] - 17s 104ms/step - loss: 6.9553e-04\n",
            "Epoch 88/100\n",
            "161/161 [==============================] - 17s 108ms/step - loss: 7.3251e-04\n",
            "Epoch 89/100\n",
            "161/161 [==============================] - 17s 106ms/step - loss: 9.0855e-04\n",
            "Epoch 90/100\n",
            "161/161 [==============================] - 17s 104ms/step - loss: 8.5813e-04\n",
            "Epoch 91/100\n",
            "161/161 [==============================] - 17s 104ms/step - loss: 9.2315e-04\n",
            "Epoch 92/100\n",
            "161/161 [==============================] - 17s 105ms/step - loss: 7.4955e-04\n",
            "Epoch 93/100\n",
            "161/161 [==============================] - 17s 105ms/step - loss: 9.6830e-04\n",
            "Epoch 94/100\n",
            "161/161 [==============================] - 17s 106ms/step - loss: 7.3618e-04\n",
            "Epoch 95/100\n",
            "161/161 [==============================] - 17s 108ms/step - loss: 8.7175e-04\n",
            "Epoch 96/100\n",
            "161/161 [==============================] - 17s 108ms/step - loss: 7.8519e-04\n",
            "Epoch 97/100\n",
            "161/161 [==============================] - 17s 108ms/step - loss: 7.0804e-04\n",
            "Epoch 98/100\n",
            "161/161 [==============================] - 17s 106ms/step - loss: 0.0013\n",
            "Epoch 99/100\n",
            "161/161 [==============================] - 17s 104ms/step - loss: 9.1759e-04\n",
            "Epoch 100/100\n",
            "161/161 [==============================] - 17s 104ms/step - loss: 7.1528e-04\n"
          ],
          "name": "stdout"
        },
        {
          "output_type": "execute_result",
          "data": {
            "text/plain": [
              "<tensorflow.python.keras.callbacks.History at 0x7f9c8338f3d0>"
            ]
          },
          "metadata": {
            "tags": []
          },
          "execution_count": 37
        }
      ]
    },
    {
      "cell_type": "code",
      "metadata": {
        "id": "8AXXgMqqFPjB"
      },
      "source": [
        "inputs=df[len(df)-len(close_test)-timestep:]\n",
        "inputs=inputs.values.reshape(-1,1)\n",
        "inputs=scaler.transform(inputs)"
      ],
      "execution_count": 38,
      "outputs": []
    },
    {
      "cell_type": "code",
      "metadata": {
        "id": "7-z0rdTNFTKz"
      },
      "source": [
        "x_test=[]\n",
        "for i in range(timestep,inputs.shape[0]):\n",
        "    x_test.append(inputs[i-timestep:i,0])\n",
        "x_test=np.array(x_test)\n",
        "x_test=x_test.reshape(x_test.shape[0],x_test.shape[1],1)"
      ],
      "execution_count": 39,
      "outputs": []
    },
    {
      "cell_type": "code",
      "metadata": {
        "id": "JiQf7hQyFVaA"
      },
      "source": [
        "predicted_data=model.predict(x_test)\n",
        "predicted_data=scaler.inverse_transform(predicted_data)"
      ],
      "execution_count": 40,
      "outputs": []
    },
    {
      "cell_type": "code",
      "metadata": {
        "id": "JquPVwhYFXpj"
      },
      "source": [
        "data_test=np.array(close_test)\n",
        "data_test=data_test.reshape(len(data_test),1)"
      ],
      "execution_count": 41,
      "outputs": []
    },
    {
      "cell_type": "code",
      "metadata": {
        "colab": {
          "base_uri": "https://localhost:8080/",
          "height": 318
        },
        "id": "UdZ10gARFY53",
        "outputId": "21c323ab-925d-4543-d631-67e888d36780"
      },
      "source": [
        "import matplotlib.pyplot as plt\n",
        "\n",
        "plt.figure(figsize=(8,4), dpi=80, facecolor='w', edgecolor='k')\n",
        "plt.plot(data_test,color=\"r\",label=\"true result\")\n",
        "plt.plot(predicted_data,color=\"b\",label=\"predicted result\")\n",
        "plt.legend()\n",
        "plt.xlabel(\"Time(50 days)\")\n",
        "plt.ylabel(\"Close Values\")\n",
        "plt.grid(True)\n",
        "plt.show()"
      ],
      "execution_count": 42,
      "outputs": [
        {
          "output_type": "display_data",
          "data": {
            "image/png": "[encoded data removed]",
            "text/plain": [
              "<Figure size 640x320 with 1 Axes>"
            ]
          },
          "metadata": {
            "tags": []
          }
        }
      ]
    }
  ]
}