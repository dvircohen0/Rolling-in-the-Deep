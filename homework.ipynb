{
  "nbformat": 4,
  "nbformat_minor": 0,
  "metadata": {
    "colab": {
      "name": "homework.ipynb",
      "provenance": [],
      "collapsed_sections": [],
      "authorship_tag": "ABX9TyMKF1KbXko51YKxRavAX1/g",
      "include_colab_link": true
    },
    "kernelspec": {
      "name": "python3",
      "display_name": "Python 3"
    },
    "language_info": {
      "name": "python"
    }
  },
  "cells": [
    {
      "cell_type": "markdown",
      "metadata": {
        "id": "view-in-github",
        "colab_type": "text"
      },
      "source": [
        "<a href=\"https://colab.research.google.com/github/dvircohen0/projects/blob/main/homework.ipynb\" target=\"_parent\"><img src=\"https://colab.research.google.com/assets/colab-badge.svg\" alt=\"Open In Colab\"/></a>"
      ]
    },
    {
      "cell_type": "markdown",
      "metadata": {
        "id": "JSJfxEmDwp3c"
      },
      "source": [
        "**In 2-3 sentences explain your thought process to starting to tackle this problem.**\n",
        "\n",
        "Ill explore the two datasets and look for a similar feature in both so I can merge the two of them according to it. In our case the two datasets contain an address column\n",
        "Ill look for anomalies in the dataset and fill in None values if necessary"
      ]
    },
    {
      "cell_type": "markdown",
      "metadata": {
        "id": "zhiDZ_eFxnvu"
      },
      "source": [
        "**In a short paragraph explain step by step how one would go about combining the datasets.**\n",
        "\n",
        "first ill read the file to pandas datframe using read_excel() and dbf5 functions.\n",
        "\n",
        "datast 2 is containg a lot of duplicate adresses that contain the same lat and long values so first step will be to delete the duplicate values from dataset 2 (datset 1 can contain duplicate values since there can be the same adresse for diffrent apartment in a building) \n",
        "\n",
        "then ill use pandas inner join function to merge the long and lat values from dataset 2 to the coresponding adress in dataset 1\n",
        "\n",
        "\n",
        "\n"
      ]
    },
    {
      "cell_type": "code",
      "metadata": {
        "id": "GMv61fiI_nIu"
      },
      "source": [
        "!pip install geopandas\n",
        "!pip install python-bidi\n",
        "!pip install pyshp\n",
        "!pip install simpledbf\n",
        "!pip install adjustText\n",
        "\n",
        "from adjustText import adjust_text\n",
        "import pandas as pd\n",
        "from simpledbf import Dbf5\n",
        "from bidi import algorithm as bidialg\n",
        "import warnings\n",
        "warnings.filterwarnings('ignore')\n",
        "\n",
        "import matplotlib.pyplot as plt\n",
        "import seaborn as sns\n",
        "\n",
        "import datetime as dt\n",
        "from scipy.stats import mode\n",
        "\n",
        "import geopandas as gpd\n",
        "from shapely.geometry import Point, Polygon\n",
        "\n",
        "!unzip \"/content/Dataset 2.zip\""
      ],
      "execution_count": null,
      "outputs": []
    },
    {
      "cell_type": "markdown",
      "metadata": {
        "id": "MOMJfGsnyqS8"
      },
      "source": [
        "reading the first dataset"
      ]
    },
    {
      "cell_type": "code",
      "metadata": {
        "colab": {
          "base_uri": "https://localhost:8080/",
          "height": 411
        },
        "id": "BOUkWUteAJBH",
        "outputId": "05c498ca-d326-4be6-e906-8740e0755856"
      },
      "source": [
        "dataset1 = pd.read_excel(\"Dataset 1.xlsx\")\n",
        "dataset1.head()"
      ],
      "execution_count": null,
      "outputs": [
        {
          "output_type": "execute_result",
          "data": {
            "text/html": [
              "<div>\n",
              "<style scoped>\n",
              "    .dataframe tbody tr th:only-of-type {\n",
              "        vertical-align: middle;\n",
              "    }\n",
              "\n",
              "    .dataframe tbody tr th {\n",
              "        vertical-align: top;\n",
              "    }\n",
              "\n",
              "    .dataframe thead th {\n",
              "        text-align: right;\n",
              "    }\n",
              "</style>\n",
              "<table border=\"1\" class=\"dataframe\">\n",
              "  <thead>\n",
              "    <tr style=\"text-align: right;\">\n",
              "      <th></th>\n",
              "      <th>ID</th>\n",
              "      <th>יום מכירה</th>\n",
              "      <th>מחיר</th>\n",
              "      <th>סוג נכס</th>\n",
              "      <th>ישוב</th>\n",
              "      <th>רחוב</th>\n",
              "      <th>מספר בית</th>\n",
              "      <th>שנת בניה</th>\n",
              "      <th>מספר קומות</th>\n",
              "      <th>כתובת</th>\n",
              "      <th>helek_nimkar</th>\n",
              "      <th>שטח</th>\n",
              "      <th>מספר חדרים</th>\n",
              "      <th>קומה</th>\n",
              "      <th>חניה</th>\n",
              "      <th>מחסן</th>\n",
              "      <th>גג</th>\n",
              "      <th>חצר</th>\n",
              "      <th>קוד ZIP</th>\n",
              "      <th>region_ID</th>\n",
              "      <th>yeshuv_ID</th>\n",
              "      <th>rehov_ID</th>\n",
              "      <th>ketovet_ID</th>\n",
              "    </tr>\n",
              "  </thead>\n",
              "  <tbody>\n",
              "    <tr>\n",
              "      <th>0</th>\n",
              "      <td>006979-0005-207</td>\n",
              "      <td>2000-11-05 00:00:00</td>\n",
              "      <td>538000</td>\n",
              "      <td>דירת מגורים</td>\n",
              "      <td>תל אביב -יפו</td>\n",
              "      <td>יקותיאל</td>\n",
              "      <td>1.0</td>\n",
              "      <td>1950.0</td>\n",
              "      <td>3.0</td>\n",
              "      <td>תל אביב -יפו,יקותיאל 1</td>\n",
              "      <td>1</td>\n",
              "      <td>NaN</td>\n",
              "      <td>NaN</td>\n",
              "      <td>NaN</td>\n",
              "      <td>NaN</td>\n",
              "      <td>NaN</td>\n",
              "      <td>NaN</td>\n",
              "      <td>NaN</td>\n",
              "      <td>13.0</td>\n",
              "      <td>NaN</td>\n",
              "      <td>5000.0</td>\n",
              "      <td>50002792.0</td>\n",
              "      <td>53794034.0</td>\n",
              "    </tr>\n",
              "    <tr>\n",
              "      <th>1</th>\n",
              "      <td>006979-0002-120</td>\n",
              "      <td>27/06/2000</td>\n",
              "      <td>307000</td>\n",
              "      <td>דירת מגורים</td>\n",
              "      <td>תל אביב -יפו</td>\n",
              "      <td>חפר</td>\n",
              "      <td>19.0</td>\n",
              "      <td>1951.0</td>\n",
              "      <td>2.0</td>\n",
              "      <td>תל אביב -יפו,חפר 19</td>\n",
              "      <td>1</td>\n",
              "      <td>47.0</td>\n",
              "      <td>2.0</td>\n",
              "      <td>1.0</td>\n",
              "      <td>0.0</td>\n",
              "      <td>0.0</td>\n",
              "      <td>0.0</td>\n",
              "      <td>0.0</td>\n",
              "      <td>NaN</td>\n",
              "      <td>NaN</td>\n",
              "      <td>NaN</td>\n",
              "      <td>NaN</td>\n",
              "      <td>NaN</td>\n",
              "    </tr>\n",
              "    <tr>\n",
              "      <th>2</th>\n",
              "      <td>006979-0002-470</td>\n",
              "      <td>25/07/2000</td>\n",
              "      <td>155000</td>\n",
              "      <td>דירת מגורים</td>\n",
              "      <td>תל אביב -יפו</td>\n",
              "      <td>הודיה</td>\n",
              "      <td>19.0</td>\n",
              "      <td>1948.0</td>\n",
              "      <td>2.0</td>\n",
              "      <td>תל אביב -יפו,הודיה 19</td>\n",
              "      <td>1</td>\n",
              "      <td>25.0</td>\n",
              "      <td>1.0</td>\n",
              "      <td>0.0</td>\n",
              "      <td>0.0</td>\n",
              "      <td>0.0</td>\n",
              "      <td>0.0</td>\n",
              "      <td>0.0</td>\n",
              "      <td>NaN</td>\n",
              "      <td>NaN</td>\n",
              "      <td>NaN</td>\n",
              "      <td>NaN</td>\n",
              "      <td>NaN</td>\n",
              "    </tr>\n",
              "    <tr>\n",
              "      <th>3</th>\n",
              "      <td>006979-0005-171</td>\n",
              "      <td>15/08/2000</td>\n",
              "      <td>203000</td>\n",
              "      <td>דירת מגורים</td>\n",
              "      <td>תל אביב -יפו</td>\n",
              "      <td>יקותיאל</td>\n",
              "      <td>1.0</td>\n",
              "      <td>1901.0</td>\n",
              "      <td>2.0</td>\n",
              "      <td>תל אביב -יפו,יקותיאל 1</td>\n",
              "      <td>1</td>\n",
              "      <td>35.0</td>\n",
              "      <td>2.0</td>\n",
              "      <td>0.0</td>\n",
              "      <td>0.0</td>\n",
              "      <td>0.0</td>\n",
              "      <td>0.0</td>\n",
              "      <td>0.0</td>\n",
              "      <td>13.0</td>\n",
              "      <td>NaN</td>\n",
              "      <td>5000.0</td>\n",
              "      <td>50002792.0</td>\n",
              "      <td>53794034.0</td>\n",
              "    </tr>\n",
              "    <tr>\n",
              "      <th>4</th>\n",
              "      <td>006979-0010-000</td>\n",
              "      <td>2000-03-09 00:00:00</td>\n",
              "      <td>181000</td>\n",
              "      <td>דירת מגורים</td>\n",
              "      <td>תל אביב -יפו</td>\n",
              "      <td>חפר</td>\n",
              "      <td>23.0</td>\n",
              "      <td>NaN</td>\n",
              "      <td>NaN</td>\n",
              "      <td>תל אביב -יפו,חפר 23</td>\n",
              "      <td>1</td>\n",
              "      <td>NaN</td>\n",
              "      <td>NaN</td>\n",
              "      <td>NaN</td>\n",
              "      <td>NaN</td>\n",
              "      <td>NaN</td>\n",
              "      <td>NaN</td>\n",
              "      <td>NaN</td>\n",
              "      <td>13.0</td>\n",
              "      <td>5.0</td>\n",
              "      <td>5000.0</td>\n",
              "      <td>50002705.0</td>\n",
              "      <td>53754209.0</td>\n",
              "    </tr>\n",
              "  </tbody>\n",
              "</table>\n",
              "</div>"
            ],
            "text/plain": [
              "                ID            יום מכירה  ...    rehov_ID  ketovet_ID\n",
              "0  006979-0005-207  2000-11-05 00:00:00  ...  50002792.0  53794034.0\n",
              "1  006979-0002-120           27/06/2000  ...         NaN         NaN\n",
              "2  006979-0002-470           25/07/2000  ...         NaN         NaN\n",
              "3  006979-0005-171           15/08/2000  ...  50002792.0  53794034.0\n",
              "4  006979-0010-000  2000-03-09 00:00:00  ...  50002705.0  53754209.0\n",
              "\n",
              "[5 rows x 23 columns]"
            ]
          },
          "metadata": {
            "tags": []
          },
          "execution_count": 4
        }
      ]
    },
    {
      "cell_type": "markdown",
      "metadata": {
        "id": "y4e7wrdQyuNp"
      },
      "source": [
        "reading the second one"
      ]
    },
    {
      "cell_type": "code",
      "metadata": {
        "colab": {
          "base_uri": "https://localhost:8080/",
          "height": 204
        },
        "id": "vVlbmIvVe9v2",
        "outputId": "af905ae2-af0b-4d2c-90a2-26764dd05ab4"
      },
      "source": [
        "dbf = Dbf5('/content/Dataset 2/Dataset 2.dbf')\n",
        "dataset2 = dbf.to_dataframe()\n",
        "dataset2=dataset2.drop_duplicates(subset=['כתובת'])\n",
        "dataset2.head()"
      ],
      "execution_count": null,
      "outputs": [
        {
          "output_type": "execute_result",
          "data": {
            "text/html": [
              "<div>\n",
              "<style scoped>\n",
              "    .dataframe tbody tr th:only-of-type {\n",
              "        vertical-align: middle;\n",
              "    }\n",
              "\n",
              "    .dataframe tbody tr th {\n",
              "        vertical-align: top;\n",
              "    }\n",
              "\n",
              "    .dataframe thead th {\n",
              "        text-align: right;\n",
              "    }\n",
              "</style>\n",
              "<table border=\"1\" class=\"dataframe\">\n",
              "  <thead>\n",
              "    <tr style=\"text-align: right;\">\n",
              "      <th></th>\n",
              "      <th>כתובת</th>\n",
              "      <th>lat</th>\n",
              "      <th>long</th>\n",
              "    </tr>\n",
              "  </thead>\n",
              "  <tbody>\n",
              "    <tr>\n",
              "      <th>0</th>\n",
              "      <td>תל אביב -יפו,יקותיאל 1</td>\n",
              "      <td>32.051571</td>\n",
              "      <td>34.787208</td>\n",
              "    </tr>\n",
              "    <tr>\n",
              "      <th>1</th>\n",
              "      <td>תל אביב -יפו,חפר 19</td>\n",
              "      <td>32.051227</td>\n",
              "      <td>34.789321</td>\n",
              "    </tr>\n",
              "    <tr>\n",
              "      <th>2</th>\n",
              "      <td>תל אביב -יפו,הודיה 19</td>\n",
              "      <td>32.051227</td>\n",
              "      <td>34.789321</td>\n",
              "    </tr>\n",
              "    <tr>\n",
              "      <th>4</th>\n",
              "      <td>תל אביב -יפו,חפר 23</td>\n",
              "      <td>32.052315</td>\n",
              "      <td>34.789938</td>\n",
              "    </tr>\n",
              "    <tr>\n",
              "      <th>5</th>\n",
              "      <td>תל אביב -יפו,ברכיה 1</td>\n",
              "      <td>32.053522</td>\n",
              "      <td>34.788641</td>\n",
              "    </tr>\n",
              "  </tbody>\n",
              "</table>\n",
              "</div>"
            ],
            "text/plain": [
              "                    כתובת        lat       long\n",
              "0  תל אביב -יפו,יקותיאל 1  32.051571  34.787208\n",
              "1     תל אביב -יפו,חפר 19  32.051227  34.789321\n",
              "2   תל אביב -יפו,הודיה 19  32.051227  34.789321\n",
              "4     תל אביב -יפו,חפר 23  32.052315  34.789938\n",
              "5    תל אביב -יפו,ברכיה 1  32.053522  34.788641"
            ]
          },
          "metadata": {
            "tags": []
          },
          "execution_count": 7
        }
      ]
    },
    {
      "cell_type": "markdown",
      "metadata": {
        "id": "dzE_wjN_y3Tm"
      },
      "source": [
        "using pandas inner join to filter the adresses that arent mutual to both datasets  "
      ]
    },
    {
      "cell_type": "code",
      "metadata": {
        "colab": {
          "base_uri": "https://localhost:8080/",
          "height": 428
        },
        "id": "ewchTHrCAN3S",
        "outputId": "1e35e8f4-1df8-4d2c-be30-035b6ed0562f"
      },
      "source": [
        "combined = pd.merge(dataset1,dataset2,on='כתובת',how='inner')\n",
        "print(\"original dataset has {} samples, joint dataset has {} samples\".format(len(dataset1),len(combined)))\n",
        "combined.head()"
      ],
      "execution_count": null,
      "outputs": [
        {
          "output_type": "stream",
          "text": [
            "original dataset has 2664 samples, joint dataset has 2321 samples\n"
          ],
          "name": "stdout"
        },
        {
          "output_type": "execute_result",
          "data": {
            "text/html": [
              "<div>\n",
              "<style scoped>\n",
              "    .dataframe tbody tr th:only-of-type {\n",
              "        vertical-align: middle;\n",
              "    }\n",
              "\n",
              "    .dataframe tbody tr th {\n",
              "        vertical-align: top;\n",
              "    }\n",
              "\n",
              "    .dataframe thead th {\n",
              "        text-align: right;\n",
              "    }\n",
              "</style>\n",
              "<table border=\"1\" class=\"dataframe\">\n",
              "  <thead>\n",
              "    <tr style=\"text-align: right;\">\n",
              "      <th></th>\n",
              "      <th>ID</th>\n",
              "      <th>יום מכירה</th>\n",
              "      <th>מחיר</th>\n",
              "      <th>סוג נכס</th>\n",
              "      <th>ישוב</th>\n",
              "      <th>רחוב</th>\n",
              "      <th>מספר בית</th>\n",
              "      <th>שנת בניה</th>\n",
              "      <th>מספר קומות</th>\n",
              "      <th>כתובת</th>\n",
              "      <th>helek_nimkar</th>\n",
              "      <th>שטח</th>\n",
              "      <th>מספר חדרים</th>\n",
              "      <th>קומה</th>\n",
              "      <th>חניה</th>\n",
              "      <th>מחסן</th>\n",
              "      <th>גג</th>\n",
              "      <th>חצר</th>\n",
              "      <th>קוד ZIP</th>\n",
              "      <th>region_ID</th>\n",
              "      <th>yeshuv_ID</th>\n",
              "      <th>rehov_ID</th>\n",
              "      <th>ketovet_ID</th>\n",
              "      <th>lat</th>\n",
              "      <th>long</th>\n",
              "    </tr>\n",
              "  </thead>\n",
              "  <tbody>\n",
              "    <tr>\n",
              "      <th>0</th>\n",
              "      <td>006979-0005-207</td>\n",
              "      <td>2000-11-05 00:00:00</td>\n",
              "      <td>538000</td>\n",
              "      <td>דירת מגורים</td>\n",
              "      <td>תל אביב -יפו</td>\n",
              "      <td>יקותיאל</td>\n",
              "      <td>1.0</td>\n",
              "      <td>1950.0</td>\n",
              "      <td>3.0</td>\n",
              "      <td>תל אביב -יפו,יקותיאל 1</td>\n",
              "      <td>1</td>\n",
              "      <td>NaN</td>\n",
              "      <td>NaN</td>\n",
              "      <td>NaN</td>\n",
              "      <td>NaN</td>\n",
              "      <td>NaN</td>\n",
              "      <td>NaN</td>\n",
              "      <td>NaN</td>\n",
              "      <td>13.0</td>\n",
              "      <td>NaN</td>\n",
              "      <td>5000.0</td>\n",
              "      <td>50002792.0</td>\n",
              "      <td>53794034.0</td>\n",
              "      <td>32.051571</td>\n",
              "      <td>34.787208</td>\n",
              "    </tr>\n",
              "    <tr>\n",
              "      <th>1</th>\n",
              "      <td>006979-0005-171</td>\n",
              "      <td>15/08/2000</td>\n",
              "      <td>203000</td>\n",
              "      <td>דירת מגורים</td>\n",
              "      <td>תל אביב -יפו</td>\n",
              "      <td>יקותיאל</td>\n",
              "      <td>1.0</td>\n",
              "      <td>1901.0</td>\n",
              "      <td>2.0</td>\n",
              "      <td>תל אביב -יפו,יקותיאל 1</td>\n",
              "      <td>1</td>\n",
              "      <td>35.0</td>\n",
              "      <td>2.0</td>\n",
              "      <td>0.0</td>\n",
              "      <td>0.0</td>\n",
              "      <td>0.0</td>\n",
              "      <td>0.0</td>\n",
              "      <td>0.0</td>\n",
              "      <td>13.0</td>\n",
              "      <td>NaN</td>\n",
              "      <td>5000.0</td>\n",
              "      <td>50002792.0</td>\n",
              "      <td>53794034.0</td>\n",
              "      <td>32.051571</td>\n",
              "      <td>34.787208</td>\n",
              "    </tr>\n",
              "    <tr>\n",
              "      <th>2</th>\n",
              "      <td>006979-0005-029</td>\n",
              "      <td>2001-09-07 00:00:00</td>\n",
              "      <td>252000</td>\n",
              "      <td>דירת מגורים</td>\n",
              "      <td>תל אביב -יפו</td>\n",
              "      <td>יקותיאל</td>\n",
              "      <td>1.0</td>\n",
              "      <td>1950.0</td>\n",
              "      <td>1.0</td>\n",
              "      <td>תל אביב -יפו,יקותיאל 1</td>\n",
              "      <td>1</td>\n",
              "      <td>44.0</td>\n",
              "      <td>2.0</td>\n",
              "      <td>0.0</td>\n",
              "      <td>0.0</td>\n",
              "      <td>0.0</td>\n",
              "      <td>0.0</td>\n",
              "      <td>0.0</td>\n",
              "      <td>13.0</td>\n",
              "      <td>NaN</td>\n",
              "      <td>5000.0</td>\n",
              "      <td>50002792.0</td>\n",
              "      <td>53794034.0</td>\n",
              "      <td>32.051571</td>\n",
              "      <td>34.787208</td>\n",
              "    </tr>\n",
              "    <tr>\n",
              "      <th>3</th>\n",
              "      <td>006979-0002-120</td>\n",
              "      <td>27/06/2000</td>\n",
              "      <td>307000</td>\n",
              "      <td>דירת מגורים</td>\n",
              "      <td>תל אביב -יפו</td>\n",
              "      <td>חפר</td>\n",
              "      <td>19.0</td>\n",
              "      <td>1951.0</td>\n",
              "      <td>2.0</td>\n",
              "      <td>תל אביב -יפו,חפר 19</td>\n",
              "      <td>1</td>\n",
              "      <td>47.0</td>\n",
              "      <td>2.0</td>\n",
              "      <td>1.0</td>\n",
              "      <td>0.0</td>\n",
              "      <td>0.0</td>\n",
              "      <td>0.0</td>\n",
              "      <td>0.0</td>\n",
              "      <td>NaN</td>\n",
              "      <td>NaN</td>\n",
              "      <td>NaN</td>\n",
              "      <td>NaN</td>\n",
              "      <td>NaN</td>\n",
              "      <td>32.051227</td>\n",
              "      <td>34.789321</td>\n",
              "    </tr>\n",
              "    <tr>\n",
              "      <th>4</th>\n",
              "      <td>006979-0002-470</td>\n",
              "      <td>25/07/2000</td>\n",
              "      <td>155000</td>\n",
              "      <td>דירת מגורים</td>\n",
              "      <td>תל אביב -יפו</td>\n",
              "      <td>הודיה</td>\n",
              "      <td>19.0</td>\n",
              "      <td>1948.0</td>\n",
              "      <td>2.0</td>\n",
              "      <td>תל אביב -יפו,הודיה 19</td>\n",
              "      <td>1</td>\n",
              "      <td>25.0</td>\n",
              "      <td>1.0</td>\n",
              "      <td>0.0</td>\n",
              "      <td>0.0</td>\n",
              "      <td>0.0</td>\n",
              "      <td>0.0</td>\n",
              "      <td>0.0</td>\n",
              "      <td>NaN</td>\n",
              "      <td>NaN</td>\n",
              "      <td>NaN</td>\n",
              "      <td>NaN</td>\n",
              "      <td>NaN</td>\n",
              "      <td>32.051227</td>\n",
              "      <td>34.789321</td>\n",
              "    </tr>\n",
              "  </tbody>\n",
              "</table>\n",
              "</div>"
            ],
            "text/plain": [
              "                ID            יום מכירה  ...        lat       long\n",
              "0  006979-0005-207  2000-11-05 00:00:00  ...  32.051571  34.787208\n",
              "1  006979-0005-171           15/08/2000  ...  32.051571  34.787208\n",
              "2  006979-0005-029  2001-09-07 00:00:00  ...  32.051571  34.787208\n",
              "3  006979-0002-120           27/06/2000  ...  32.051227  34.789321\n",
              "4  006979-0002-470           25/07/2000  ...  32.051227  34.789321\n",
              "\n",
              "[5 rows x 25 columns]"
            ]
          },
          "metadata": {
            "tags": []
          },
          "execution_count": 11
        }
      ]
    },
    {
      "cell_type": "code",
      "metadata": {
        "colab": {
          "base_uri": "https://localhost:8080/"
        },
        "id": "YgDo5yW0-seA",
        "outputId": "0e77e6dc-b952-44e6-bac9-82076eea54b2"
      },
      "source": [
        "combined.columns"
      ],
      "execution_count": null,
      "outputs": [
        {
          "output_type": "execute_result",
          "data": {
            "text/plain": [
              "Index(['ID', 'יום מכירה', 'מחיר', 'סוג נכס', 'ישוב', 'רחוב', 'מספר בית',\n",
              "       'שנת בניה', 'מספר קומות', 'כתובת', 'helek_nimkar', 'שטח', 'מספר חדרים',\n",
              "       'קומה', 'חניה', 'מחסן', 'גג', 'חצר', 'קוד ZIP', 'region_ID',\n",
              "       'yeshuv_ID', 'rehov_ID', 'ketovet_ID', 'lat', 'long'],\n",
              "      dtype='object')"
            ]
          },
          "metadata": {
            "tags": []
          },
          "execution_count": 19
        }
      ]
    },
    {
      "cell_type": "markdown",
      "metadata": {
        "id": "PkK2upX7zyYH"
      },
      "source": [
        "**Are there any outliers in the database?**\n",
        "\n",
        "Yes in some of the numerical features there are outliers, we can filter the top and bottom percentages values to get data that is more normally distributed ."
      ]
    },
    {
      "cell_type": "code",
      "metadata": {
        "colab": {
          "base_uri": "https://localhost:8080/",
          "height": 825
        },
        "id": "HoHB-MVZFtfY",
        "outputId": "b7087f59-e741-4669-cb60-a987b331b676"
      },
      "source": [
        "\n",
        "\n",
        "check_for_outlines = ['מחיר','מספר חדרים','שטח','שנת בניה']\n",
        "columns_names = [\"with outliers\",\"without outliers\"]\n",
        "fig, ax =plt.subplots(len(check_for_outlines),2,figsize=(7,14))\n",
        "\n",
        "\n",
        "for axi, col in zip(ax[0], columns_names):\n",
        "    axi.set_title(col)\n",
        "\n",
        "for axi, row in zip(ax[:,0], check_for_outlines):\n",
        "    axi.set_ylabel(bidialg.get_display(row), rotation=90, size='large')\n",
        "\n",
        "df = combined\n",
        " \n",
        "for i,feature in enumerate(check_for_outlines):\n",
        "  q_low = df[feature].quantile(0.01)\n",
        "  q_hi  = df[feature].quantile(0.99)\n",
        "  g=sns.distplot(df[feature],ax=ax[i,0]);\n",
        "\n",
        "  g.set_xlabel('');\n",
        "  df_filtered = df[(df[feature] < q_hi) & (df[feature] > q_low)]\n",
        "  g=sns.distplot(df_filtered[feature],ax=ax[i,1]);\n",
        "  df_filtered =pd.concat([df_filtered,df[df[feature].isnull()]])\n",
        "  df = df_filtered\n",
        "  g.set_ylabel('');\n",
        "  g.set_xlabel('');\n",
        "\n"
      ],
      "execution_count": 282,
      "outputs": [
        {
          "output_type": "display_data",
          "data": {
            "image/png": "[encoded data removed]",
            "text/plain": [
              "<Figure size 504x1008 with 8 Axes>"
            ]
          },
          "metadata": {
            "tags": [],
            "needs_background": "light"
          }
        }
      ]
    },
    {
      "cell_type": "markdown",
      "metadata": {
        "id": "1zQonQmi0QMt"
      },
      "source": [
        "**What percentage of the data is usable?**\n",
        "\n",
        "It depends on what features we use to make a prediction. We use about 75% of dataset 1 after the joining and outliers filtering operations, but if we need to use a feature containing None values, we may use a lower percentage if it is not possible to complete the missing data."
      ]
    },
    {
      "cell_type": "code",
      "metadata": {
        "colab": {
          "base_uri": "https://localhost:8080/"
        },
        "id": "89xXsdqfWl6G",
        "outputId": "4391bf16-9ec5-4c31-a4d3-33e5edb9266a"
      },
      "source": [
        "print('after deleting outlier, we satyed with {:.2} of the data'.format(len(filtered_combine)/len(dataset1)))"
      ],
      "execution_count": 283,
      "outputs": [
        {
          "output_type": "stream",
          "text": [
            "after deleting outlier, we satyed with 0.75 of the data\n"
          ],
          "name": "stdout"
        }
      ]
    },
    {
      "cell_type": "markdown",
      "metadata": {
        "id": "pK2QM3A71KaB"
      },
      "source": [
        "**Would you recommend removing any of the features**\n",
        "\n",
        "Yes, the features: yard, roof and  warehouse contain mostly zero so they will notcontribute much to the prediciton. also ketovet_ID,rehov_ID,yeshuv_ID,region_ID,קוד ZIP not giving us usefull data for prediction"
      ]
    },
    {
      "cell_type": "code",
      "metadata": {
        "colab": {
          "base_uri": "https://localhost:8080/"
        },
        "id": "TaXnA5S91bRB",
        "outputId": "42944eb1-bf41-4620-a782-b777f0231f50"
      },
      "source": [
        "print(df['גג'].value_counts())\n",
        "print(df['חצר'].value_counts())\n",
        "print(df['מחסן'].value_counts())\n"
      ],
      "execution_count": 284,
      "outputs": [
        {
          "output_type": "stream",
          "text": [
            "0.0     1047\n",
            "62.0       2\n",
            "85.0       1\n",
            "82.0       1\n",
            "42.0       1\n",
            "84.0       1\n",
            "1.0        1\n",
            "Name: גג, dtype: int64\n",
            "0.0      1027\n",
            "1.0         3\n",
            "381.0       2\n",
            "150.0       1\n",
            "85.0        1\n",
            "450.0       1\n",
            "600.0       1\n",
            "145.0       1\n",
            "14.0        1\n",
            "70.0        1\n",
            "80.0        1\n",
            "300.0       1\n",
            "37.0        1\n",
            "Name: חצר, dtype: int64\n",
            "0.0    1054\n",
            "Name: מחסן, dtype: int64\n"
          ],
          "name": "stdout"
        }
      ]
    },
    {
      "cell_type": "markdown",
      "metadata": {
        "id": "mj6LZ8ec38nq"
      },
      "source": [
        "**How would you go about correcting the missing data?**\n",
        "\n",
        "The floor feature can be filled with zeros for ground floor apartments\n",
        "The parking feature can also be filled with zeros for missing values."
      ]
    },
    {
      "cell_type": "markdown",
      "metadata": {
        "id": "CemSZa3_SbL8"
      },
      "source": [
        "**Describe the breakdown of property types**"
      ]
    },
    {
      "cell_type": "code",
      "metadata": {
        "id": "MZv2toJNYQYO",
        "colab": {
          "base_uri": "https://localhost:8080/",
          "height": 265
        },
        "outputId": "dd15ae2a-cf9a-4432-bbd7-be49ccff0d82"
      },
      "source": [
        "df['סוג נכס'].unique()\n",
        "df['סוג נכס']=df['סוג נכס'].replace('ד. מגורים', 'דירת מגורים')\n",
        "df['סוג נכס']=df['סוג נכס'].replace('בניין','בנין')\n",
        "\n",
        "df['סוג נכס'] = [bidialg.get_display(x) for x in df['סוג נכס']]\n",
        "df['סוג נכס'].str.get_dummies().sum().plot.pie(label=bidialg.get_display('סוג נכס'),autopct='%1.0f%%')\n"
      ],
      "execution_count": 287,
      "outputs": [
        {
          "output_type": "execute_result",
          "data": {
            "text/plain": [
              "<matplotlib.axes._subplots.AxesSubplot at 0x7f6bc5138b90>"
            ]
          },
          "metadata": {
            "tags": []
          },
          "execution_count": 287
        },
        {
          "output_type": "display_data",
          "data": {
            "image/png": "[encoded data removed]",
            "text/plain": [
              "<Figure size 432x288 with 1 Axes>"
            ]
          },
          "metadata": {
            "tags": []
          }
        }
      ]
    },
    {
      "cell_type": "markdown",
      "metadata": {
        "id": "WT1wmBpsStTz"
      },
      "source": [
        "**Where do properties tend to have the biggest roof (גג)?**"
      ]
    },
    {
      "cell_type": "code",
      "metadata": {
        "colab": {
          "base_uri": "https://localhost:8080/",
          "height": 282
        },
        "id": "AMbm7JafPK_5",
        "outputId": "8bea522f-ec75-400c-9385-60408485db10"
      },
      "source": [
        "df[\"ישוב\"] = [bidialg.get_display(x) for x in df[\"ישוב\"]]\n",
        "df[\"ישוב\"].value_counts().plot(kind='barh')"
      ],
      "execution_count": 289,
      "outputs": [
        {
          "output_type": "execute_result",
          "data": {
            "text/plain": [
              "<matplotlib.axes._subplots.AxesSubplot at 0x7f6bb6fc3510>"
            ]
          },
          "metadata": {
            "tags": []
          },
          "execution_count": 289
        },
        {
          "output_type": "display_data",
          "data": {
            "image/png": "[encoded data removed]",
            "text/plain": [
              "<Figure size 432x288 with 1 Axes>"
            ]
          },
          "metadata": {
            "tags": [],
            "needs_background": "light"
          }
        }
      ]
    },
    {
      "cell_type": "markdown",
      "metadata": {
        "id": "GGWqZ9jrTCJW"
      },
      "source": [
        "**Describe when the majority of transactions occurred**"
      ]
    },
    {
      "cell_type": "code",
      "metadata": {
        "colab": {
          "base_uri": "https://localhost:8080/",
          "height": 331
        },
        "id": "1Z69kdy8Sbf9",
        "outputId": "b147c00d-e5b3-43ca-eb85-422b0e137ca9"
      },
      "source": [
        "df[\"יום מכירה\"]= pd.to_datetime(df[\"יום מכירה\"])\n",
        "\n",
        "df[\"יום מכירה\"][df[\"יום מכירה\"].dt.year < 2004].hist(bins=200)\n",
        "plt.xticks(rotation='vertical');\n",
        "\n",
        "df[\"יום מכירה\"]= df[\"יום מכירה\"].dt.date\n",
        "\n",
        "print(\"the day with the most is: \",mode(df[\"יום מכירה\"])[0][0])\n",
        "print(\"in that date there were\",mode(df[\"יום מכירה\"]).count[0],\"trans\")"
      ],
      "execution_count": 290,
      "outputs": [
        {
          "output_type": "stream",
          "text": [
            "the day with the most is:  2001-06-12\n",
            "in that date there were 10 trans\n"
          ],
          "name": "stdout"
        },
        {
          "output_type": "display_data",
          "data": {
            "image/png": "[encoded data removed]",
            "text/plain": [
              "<Figure size 432x288 with 1 Axes>"
            ]
          },
          "metadata": {
            "tags": [],
            "needs_background": "light"
          }
        }
      ]
    },
    {
      "cell_type": "markdown",
      "metadata": {
        "id": "-rPX-cN35IdS"
      },
      "source": [
        "**Where do properties tend to have the biggest garden (חצר)?**\n",
        "\n",
        "in Even yehuda the average size is about 500m"
      ]
    },
    {
      "cell_type": "code",
      "metadata": {
        "colab": {
          "base_uri": "https://localhost:8080/",
          "height": 285
        },
        "id": "HzTGWRblAYeS",
        "outputId": "f842170a-3c81-48a1-b9de-1adaca169f01"
      },
      "source": [
        "combined[\"ישוב\"] = [bidialg.get_display(x) for x in combined[\"ישוב\"]]\n",
        "df=combined[combined.חצר>0 ]\n",
        "\n",
        "df = df[df.groupby(\"ישוב\")['ישוב'].transform('size') > 1]\n",
        "\n",
        "g=sns.boxplot(x=\"ישוב\", y=\"חצר\",\n",
        "                 data=df )\n",
        "\n",
        "g.set_xticklabels(g.get_xticklabels(), rotation=30);\n",
        "g.set_ylabel('');\n",
        "g.set_xlabel('');"
      ],
      "execution_count": 292,
      "outputs": [
        {
          "output_type": "display_data",
          "data": {
            "image/png": "[encoded data removed]",
            "text/plain": [
              "<Figure size 432x288 with 1 Axes>"
            ]
          },
          "metadata": {
            "tags": [],
            "needs_background": "light"
          }
        }
      ]
    },
    {
      "cell_type": "markdown",
      "metadata": {
        "id": "CdZduqrcAnuL"
      },
      "source": [
        "**Where do properties tend to have the biggest roof (גג)?**\n",
        "\n",
        "all roof data is 0 or None"
      ]
    },
    {
      "cell_type": "markdown",
      "metadata": {
        "id": "yWzAmJV3BCbi"
      },
      "source": [
        "**Plot the coordinates of all the transactions on a map of Israel highlighting where prices are higher.**"
      ]
    },
    {
      "cell_type": "code",
      "metadata": {
        "id": "BDdujqEdmz-s"
      },
      "source": [
        "!wget https://biogeo.ucdavis.edu/data/gadm3.6/shp/gadm36_ISR_shp.zip\n",
        "!unzip gadm36_ISR_shp.zip\n",
        "!wget https://biogeo.ucdavis.edu/data/gadm3.6/shp/gadm36_PSE_shp.zip\n",
        "!unzip gadm36_PSE_shp.zip"
      ],
      "execution_count": null,
      "outputs": []
    },
    {
      "cell_type": "code",
      "metadata": {
        "id": "YMH5vLVxo2RB",
        "colab": {
          "base_uri": "https://localhost:8080/",
          "height": 609
        },
        "outputId": "97c3d21c-e0a6-4fb6-8231-428a7de79a7c"
      },
      "source": [
        "map1 = gpd.read_file('/content/gadm36_ISR_0.shp')\n",
        "map2 = gpd.read_file('/content/gadm36_PSE_1.shp')\n",
        "\n",
        "av_values =combined.groupby('ישוב').mean().reset_index()\n",
        "geometry = [Point(xy) for xy in zip(av_values['long'], av_values['lat'])]\n",
        "geo_df = gpd.GeoDataFrame(av_values,\n",
        " crs = \"EPSG:4326\",\n",
        " geometry = geometry)\n",
        "\n",
        "\n",
        "fig, ax = plt.subplots(figsize=(10,10))\n",
        "\n",
        "map1.plot(ax=ax,alpha=0.4,color=\"grey\")\n",
        "map2.plot(ax=ax,alpha=0.4,color=\"grey\")\n",
        "\n",
        "adjust_text(texts)\n",
        "ax=geo_df.plot(column=\"מחיר\",ax=ax, legend=True,markersize=80)\n",
        "texts = []\n",
        "for x, y, label in zip(geo_df.geometry.x, geo_df.geometry.y, geo_df[\"ישוב\"]):\n",
        "    texts.append(plt.text(x, y, label, fontsize = 13, ha='center', va='center'))\n",
        "adjust_text(texts, arrowprops=dict(arrowstyle=\"-\",color='grey'))                           \n",
        "plt.title(\"selling price in isarel\", fontsize=15,fontweight=\"bold\")\n",
        "\n",
        "plt.ylim( 31.2,33.2)\n",
        "plt.show()"
      ],
      "execution_count": 293,
      "outputs": [
        {
          "output_type": "display_data",
          "data": {
            "image/png": "[encoded data removed]",
            "text/plain": [
              "<Figure size 720x720 with 2 Axes>"
            ]
          },
          "metadata": {
            "tags": [],
            "needs_background": "light"
          }
        }
      ]
    }
  ]
}